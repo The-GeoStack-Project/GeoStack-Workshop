{
 "cells": [
  {
   "cell_type": "markdown",
   "metadata": {},
   "source": [
    "# Workshop part 2: Data storage\n",
    "---\n",
    "## Assignments notebook\n",
    "---\n",
    "\n",
    "## Contents of the notebook\n",
    "\n",
    "- Importing the required modules \n",
    "- Reading the datasets\n",
    "\n",
    "- Creating the data models\n",
    "- Creating the import functions \n",
    "\n",
    "- Connecting to the MongoDB datastores\n",
    "- Using the import functions\n",
    "\n",
    "## Assignments in notebook\n",
    "1. Assignment 1: Complete the Tracker document with the correct FieldTypes.\n",
    "2. Assignment 2: Complete the Transmission document with the correct FieldTypes.\n",
    "3. Assignment 3: Complete the Signal document with the correct FieldTypes.\n",
    "4. Assignment 4: Complete the Function for creating the Trail documents.\n",
    "5. Assignment 5: Complete the Function for creating the Signal documents.\n",
    "\n",
    "\n",
    "#### NOTE: To run a cell, you have to select the cell and press the Run button at the top of the screen. <br>\n",
    "\n",
    "#### NOTE 2: For convenience, you can type the first letter of a variable and press TAB to automatically add the variable.\n",
    "   "
   ]
  },
  {
   "cell_type": "markdown",
   "metadata": {},
   "source": [
    "---\n",
    "### Importing the required modules\n",
    "---"
   ]
  },
  {
   "cell_type": "code",
   "execution_count": null,
   "metadata": {},
   "outputs": [],
   "source": [
    "import pandas as pd\n",
    "\n",
    "from mongoengine import * \n",
    "\n",
    "from datetime import datetime"
   ]
  },
  {
   "cell_type": "markdown",
   "metadata": {},
   "source": [
    "### Reading the Crane Datasets\n",
    "---"
   ]
  },
  {
   "cell_type": "code",
   "execution_count": null,
   "metadata": {},
   "outputs": [],
   "source": [
    "Agnetha = pd.read_json('../../Datasets/JSON/Crane-Agnetha.json')\n",
    "Frida = pd.read_json('../../Datasets/JSON/Crane-Frida.json')\n",
    "Cajsa = pd.read_json('../../Datasets/JSON/Crane-Cajsa.json')"
   ]
  },
  {
   "cell_type": "markdown",
   "metadata": {},
   "source": [
    "### Reading the GPS-Route Datasets\n",
    "---"
   ]
  },
  {
   "cell_type": "code",
   "execution_count": null,
   "metadata": {},
   "outputs": [],
   "source": [
    "Biesbosch = pd.read_json('../../Datasets/JSON/Route-Biesbosch.json')\n",
    "Zeeland_Car_1 = pd.read_json('../../Datasets/JSON/Route-Zeeland_Car_1.json')\n",
    "Zeeland_Car_2 = pd.read_json('../../Datasets/JSON/Route-Zeeland_Car_2.json')"
   ]
  },
  {
   "cell_type": "markdown",
   "metadata": {},
   "source": [
    "---"
   ]
  },
  {
   "cell_type": "markdown",
   "metadata": {},
   "source": [
    "# Creating the Crane Data Model"
   ]
  },
  {
   "cell_type": "markdown",
   "metadata": {},
   "source": [
    "#### Assignment 1: Complete the Tracker document with the correct FieldTypes.\n",
    "\n",
    "The table below shows the column names and their datatypes, belonging to a Tracker document:\n",
    "\n",
    "|Column|Type|\n",
    "|--|--|\n",
    "|name|string|\n",
    "|study-name|string|\n",
    "|individual-taxon-canonical-name|string|\n",
    "|individual-local-identifier|int|\n",
    "\n",
    "Use the content of this table to complete the Tracker document. \n",
    "\n",
    "---"
   ]
  },
  {
   "cell_type": "code",
   "execution_count": null,
   "metadata": {},
   "outputs": [],
   "source": [
    "class Tracker(Document):\n",
    "    \n",
    "    name = StringField()\n",
    "\n",
    "    study_name = #TODO\n",
    "    \n",
    "    individual_taxon_canonical_name = StringField()\n",
    "     \n",
    "\n",
    "    individual_local_identifier = #TODO"
   ]
  },
  {
   "cell_type": "markdown",
   "metadata": {},
   "source": [
    "---\n",
    "#### Assignment 2: Complete the Transmission document with the correct FieldTypes.\n",
    "\n",
    "The table below shows the column names and their datatypes, belonging to a Transmission document:\n",
    "\n",
    "\n",
    "|Column|Type|Desc.|\n",
    "|--|--|--|\n",
    "|event-id |int|\n",
    "|timestamp |datetime|\n",
    "|coord|point[]| This is an array of the longitude and latitude coordinates  |\n",
    "|alt|int|\n",
    "|speed|float|\n",
    "|heading| float|\n",
    "\n",
    "Use the content of this table to find the datatype of the fields that you need to complete.\n",
    "\n",
    "##### NOTE: When creating a field you first decalre the datatype (Starting with a capital letter) followed by \"Field()\".\n",
    "\n",
    "---"
   ]
  },
  {
   "cell_type": "code",
   "execution_count": null,
   "metadata": {},
   "outputs": [],
   "source": [
    "class Transmission(Document):\n",
    "    \n",
    "    event_id = IntField()\n",
    "    \n",
    "    timestamp = #TODO\n",
    "    \n",
    "    coord = PointField()\n",
    "    \n",
    "    alt = FloatField()\n",
    "    \n",
    "    speed =  #TODO\n",
    "    \n",
    "    heading = #TODO\n",
    "\n",
    "    tracker = ReferenceField(Tracker)"
   ]
  },
  {
   "cell_type": "markdown",
   "metadata": {},
   "source": [
    "---"
   ]
  },
  {
   "cell_type": "markdown",
   "metadata": {},
   "source": [
    "# Creating the GPS-Route Data Model\n",
    "---"
   ]
  },
  {
   "cell_type": "code",
   "execution_count": null,
   "metadata": {},
   "outputs": [],
   "source": [
    "class Trail(Document):\n",
    "\n",
    "    name = StringField()\n"
   ]
  },
  {
   "cell_type": "markdown",
   "metadata": {},
   "source": [
    "---\n",
    "#### Assignment 3: Complete the Signal document with the correct FieldTypes.\n",
    "\n",
    "The table below shows the column names and their datatypes, belonging to a Signal document:\n",
    "\n",
    "\n",
    "|Column|Type|Desc.|\n",
    "|--|--|--|\n",
    "|timestamp |datetime|\n",
    "|coord|point[]| This is an array of the Longitude and Latitude Coordinates |\n",
    "|alt|float|\n",
    "\n",
    "Use the content of this table to find the datatype of the fields that you need to complete.\n",
    "\n",
    "##### NOTE: When creating a field you first decalre the datatype (Starting with a capital letter) followed by \"Field()\".\n",
    "\n",
    "You also have to create a Reference to the Trail document. In the slides you learned how to do this. \n",
    "In case you get stuck, you can always take at the Transmission document which also uses a ReferenceField() containing a reference to a Tracker document.\n",
    "\n",
    "---"
   ]
  },
  {
   "cell_type": "code",
   "execution_count": null,
   "metadata": {},
   "outputs": [],
   "source": [
    "class Signal(Document):\n",
    "    \n",
    "    timestamp = #TODO\n",
    "    \n",
    "    coord = PointField()\n",
    "    \n",
    "    alt = FloatField()\n",
    "    \n",
    "    trail = #TODO"
   ]
  },
  {
   "cell_type": "markdown",
   "metadata": {},
   "source": [
    "---"
   ]
  },
  {
   "cell_type": "markdown",
   "metadata": {},
   "source": [
    "---"
   ]
  },
  {
   "cell_type": "markdown",
   "metadata": {},
   "source": [
    "## End assignment 1, 2 and 3.\n",
    "#### You should go back to the slides for further instructions.\n"
   ]
  },
  {
   "cell_type": "markdown",
   "metadata": {},
   "source": [
    "---"
   ]
  },
  {
   "cell_type": "markdown",
   "metadata": {},
   "source": [
    "---"
   ]
  },
  {
   "cell_type": "markdown",
   "metadata": {},
   "source": [
    "## Creating the import function for importing the Crane Data\n",
    "#### This function is already correct and uses a feature called bulk import. For more information related to the MongoDB bulk import feature, you should follow the Complete GeoStack Course.\n",
    "---"
   ]
  },
  {
   "cell_type": "code",
   "execution_count": null,
   "metadata": {},
   "outputs": [],
   "source": [
    "def load_crane_data(df,name):\n",
    "    \n",
    "    tracker = Tracker(study_name = df.at[0,'study-name'],\n",
    "                      individual_taxon_canonical_name = df.at[0,'individual-taxon-canonical-name'],\n",
    "                      individual_local_identifier = df.at[0,'individual-local-identifier'],\n",
    "                      name = name,).save()\n",
    "\n",
    "    transmissions = []\n",
    "\n",
    "    for index,row in df.iterrows():\n",
    "        transmissions.append(Transmission(event_id = row['event-id'],\n",
    "                                          timestamp = row['timestamp'],\n",
    "                                          coord = [row['location-long'],row['location-lat']],\n",
    "                                          alt = row['height-above-ellipsoid'],\n",
    "                                          speed = row['ground-speed'],\n",
    "                                          tracker = tracker))\n",
    "        \n",
    "    Transmission.objects.insert(transmissions,load_bulk=True)\n",
    "    \n",
    "    print(\"Done importing (Crane)Tracker: \" + name)"
   ]
  },
  {
   "cell_type": "markdown",
   "metadata": {},
   "source": [
    "---"
   ]
  },
  {
   "cell_type": "markdown",
   "metadata": {},
   "source": [
    "## Creating the import function for importing the GPS-Route\n",
    "---"
   ]
  },
  {
   "cell_type": "code",
   "execution_count": null,
   "metadata": {},
   "outputs": [],
   "source": [
    "def load_route_data(df,name):\n",
    "    \n",
    "    \n",
    "    # # # # # # # # # # # # # # # # # # # # # # # # # # # # # # # # # # # # # # # # # # # \n",
    "    #                                                                                   #\n",
    "    #       Assignment 4: Complete the code logic for creating the Trail documents.     #\n",
    "    #                                                                                   #\n",
    "    # # # # # # # # # # # # # # # # # # # # # # # # # # # # # # # # # # # # # # # # # # #\n",
    "    # \n",
    "    # To create a document, using an import function, you first have to declare which \n",
    "    # document you want to create (Create a new instance of this document).\n",
    "    # \n",
    "    # Next you want to declare which Columns, from the dataframe related to the document, \n",
    "    # need to be assigned to the related fields.\n",
    "    #\n",
    "    # For this to be done correctly, you first need to know which fields are needed in\n",
    "    # the document. For this you can check back to the code in which we defined the model \n",
    "    # of the Trail document. \n",
    "    #\n",
    "    # TIP: The value of the Field:\"name\" in the Trail document is not provided by the \n",
    "    #      dataset. We will pass the value when we call the function:\"load_route_data()\".\n",
    "    #\n",
    "    # # # # # # # # # # # # # # # # # # # # # # # # # # # # # # # # # # # # # # # # # # #\n",
    "    \n",
    "    trail =  #TODO\n",
    "\n",
    "    trail.save() \n",
    "    \n",
    "    for index,row in df.iterrows():\n",
    "        \n",
    "        # Below we assign the data of the timestamp column to a variable called:\"time\"\n",
    "        # We devide the value of this column by 1000 because we want to remove the \n",
    "        # timezone info from the timestamp. For more information related to timezones\n",
    "        # you should follow the complete Geostack Course.\n",
    "        #\n",
    "        # NOTE: The variable: \"time\" will be assigend to the correct field when we \n",
    "        #       add the code for the creation of a Signal document.\n",
    "        time = datetime.fromtimestamp(row['time']/1000)\n",
    "        \n",
    "\n",
    "        # # # # # # # # # # # # # # # # # # # # # # # # # # # # # # # # # # # # # # # # # # # # #\n",
    "        #                                                                                       #\n",
    "        #       Assignment 5: Complete the code logic for creating the Signal documents.        #\n",
    "        #                                                                                       #\n",
    "        # # # # # # # # # # # # # # # # # # # # # # # # # # # # # # # # # # # # # # # # # # # # # \n",
    "        #                                                                                       \n",
    "        # To create a document, using an import function, you first have to declare which \n",
    "        # document you want to create (Create a new instance of this document).\n",
    "        # \n",
    "        # Next you want to declare which Columns, from the dataframe related to the document, \n",
    "        # need to be assigned to the related fields.\n",
    "        #          \n",
    "        # To find out which fields belong to a Signal document you can check back to \n",
    "        # assignment 3 in which we created the model(template) of a Signal document.\n",
    "        #\n",
    "        # \n",
    "        # TIP: The data for the field:\"timestamp\", has already been tansformed and assigned to the \n",
    "        #      variable: \"time\". You only have to assign this value to the correct field in the \n",
    "        #      Signal document.\n",
    "        # \n",
    "        # # # # # # # # # # # # # # # # # # # # # # # # # # # # # # # # # # # # # # # # # # # # # \n",
    "        signal = #TODO\n",
    "    \n",
    "        signal.save()\n",
    "        \n",
    "    print(\"Done importing Trail (GPS-Route): \" + name)\n"
   ]
  },
  {
   "cell_type": "markdown",
   "metadata": {},
   "source": [
    "---"
   ]
  },
  {
   "cell_type": "markdown",
   "metadata": {},
   "source": [
    "---\n",
    "### Connecting to the Crane Database\n",
    "#### The database will run on localhost:27017/Crane_Database_\n",
    "---"
   ]
  },
  {
   "cell_type": "code",
   "execution_count": null,
   "metadata": {},
   "outputs": [],
   "source": [
    "disconnect('default')\n",
    "connect('Crane_Database_')"
   ]
  },
  {
   "cell_type": "markdown",
   "metadata": {},
   "source": [
    "---\n",
    "#### Using the function: \"load_crane_data()\" to load the (Crane)Tracker data. We pass the dataframe and the name of the Crane as parameters.\n",
    "---"
   ]
  },
  {
   "cell_type": "code",
   "execution_count": null,
   "metadata": {},
   "outputs": [],
   "source": [
    "load_crane_data(Agnetha,\"Agnetha\")\n",
    "load_crane_data(Frida,\"Frida\")\n",
    "load_crane_data(Cajsa,\"Cajsa\")"
   ]
  },
  {
   "cell_type": "markdown",
   "metadata": {},
   "source": [
    "---\n",
    "### Connecting to the GPS-Route (Trail) database\n",
    "#### The database will run on localhost:27017/Trail_Database_\n",
    "---"
   ]
  },
  {
   "cell_type": "code",
   "execution_count": null,
   "metadata": {},
   "outputs": [],
   "source": [
    "disconnect('default')\n",
    "connect('Trail_Database_')"
   ]
  },
  {
   "cell_type": "markdown",
   "metadata": {},
   "source": [
    "---\n",
    "#### Using the function: \"load_route_data()\" to load the GPS-Route (Trail) data. We pass the dataframe and the name of the Route as parameters.\n",
    "---"
   ]
  },
  {
   "cell_type": "code",
   "execution_count": null,
   "metadata": {},
   "outputs": [],
   "source": [
    "load_route_data(Biesbosch,\"Biesbosch\")\n",
    "load_route_data(Zeeland_Car_1,\"Zeeland Car 1\")\n",
    "load_route_data(Zeeland_Car_2,\"Zeeland Car 2\")"
   ]
  }
 ],
 "metadata": {
  "kernelspec": {
   "display_name": "Python 3",
   "language": "python",
   "name": "python3"
  },
  "language_info": {
   "codemirror_mode": {
    "name": "ipython",
    "version": 3
   },
   "file_extension": ".py",
   "mimetype": "text/x-python",
   "name": "python",
   "nbconvert_exporter": "python",
   "pygments_lexer": "ipython3",
   "version": "3.6.9"
  }
 },
 "nbformat": 4,
 "nbformat_minor": 4
}
