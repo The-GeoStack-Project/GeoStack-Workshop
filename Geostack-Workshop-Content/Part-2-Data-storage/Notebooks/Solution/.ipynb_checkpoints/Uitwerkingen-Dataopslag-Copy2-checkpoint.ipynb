{
 "cells": [
  {
   "cell_type": "markdown",
   "metadata": {},
   "source": [
    "# Workshop deel 2: Dataopslag \n",
    "---\n",
    "## Uitwerkingen notebook\n",
    "---\n",
    "\n",
    "## Inhoud van de notebook\n",
    "\n",
    "- Importeren van benodigde modules\n",
    "- Importeren van de datasets\n",
    "\n",
    "- Creeren van data modellen\n",
    "- Creeren van de functies voor het importeren van de data\n",
    "\n",
    "- Connectie aan de MongoDB databases\n",
    "- Gebruiken van de gecreerde functies\n",
    "\n",
    "\n",
    "## Opdrachten in notebook\n",
    "1. Opdracht 1: Vul het tracker document aan met de benodigde fieldtypes\n",
    "2. Opdracht 2: Vul het transmission document aan met de benodigde fieldtypes\n",
    "3. Opdracht 3: Vul het signal document aan met de benodigde fieldtypes\n",
    "4. Opdracht 4: Definieer de code voor het creeren van een Trail document \n",
    "5. Opdracht 5: Definieer de code voor het creeren van een Signal document \n",
    "    \n",
    "    "
   ]
  },
  {
   "cell_type": "markdown",
   "metadata": {},
   "source": [
    "---\n",
    "### Importeren van de benodigde modules\n",
    "---"
   ]
  },
  {
   "cell_type": "code",
   "execution_count": 3,
   "metadata": {},
   "outputs": [],
   "source": [
    "import pandas as pd\n",
    "from mongoengine import * \n",
    "from datetime import datetime"
   ]
  },
  {
   "cell_type": "markdown",
   "metadata": {},
   "source": [
    "### Importeren van de Kraanvogel datasets\n",
    "---"
   ]
  },
  {
   "cell_type": "code",
   "execution_count": 4,
   "metadata": {},
   "outputs": [],
   "source": [
    "Agnetha = pd.read_json('../../Datasets/JSON/Kraanvogel-Agnetha.json')\n",
    "Frida = pd.read_json('../../Datasets/JSON/Kraanvogel-Frida.json')\n",
    "Cajsa = pd.read_json('../../Datasets/JSON/Kraanvogel-Cajsa.json')"
   ]
  },
  {
   "cell_type": "markdown",
   "metadata": {},
   "source": [
    "### Importeren van de GPS route datasets\n",
    "---"
   ]
  },
  {
   "cell_type": "code",
   "execution_count": 7,
   "metadata": {},
   "outputs": [],
   "source": [
    "Biesbosch = pd.read_json('../../Datasets/JSON/Route-Biesbosch.json')\n",
    "Zeeland_Camper_1 = pd.read_json('../../Datasets/JSON/Route-Zeeland_Camper_1.json')\n",
    "Zeeland_Camper_2 = pd.read_json('../../Datasets/JSON/Route-Zeeland_Camper_2.json')"
   ]
  },
  {
   "cell_type": "markdown",
   "metadata": {},
   "source": [
    "---"
   ]
  },
  {
   "cell_type": "markdown",
   "metadata": {},
   "source": [
    "# Creëren van het datamodel voor de Kraanvogel datasets"
   ]
  },
  {
   "cell_type": "markdown",
   "metadata": {},
   "source": [
    "In de tabel hieronder vind je de data en datatype dat behoort tot het tracker document:\n",
    "\n",
    "|Column|Type|\n",
    "|--|--|\n",
    "|name|string|\n",
    "|study-name|string|\n",
    "|individual-taxon-canonical-name|string|\n",
    "|individual-local-identifier|int|\n",
    "\n",
    "#### Opdracht 1: Vul het tracker document aan met de benodigde fieldtypes\n",
    "\n",
    "---"
   ]
  },
  {
   "cell_type": "code",
   "execution_count": 2,
   "metadata": {},
   "outputs": [
    {
     "ename": "SyntaxError",
     "evalue": "invalid syntax (<ipython-input-2-4e0d464dd762>, line 5)",
     "output_type": "error",
     "traceback": [
      "\u001b[0;36m  File \u001b[0;32m\"<ipython-input-2-4e0d464dd762>\"\u001b[0;36m, line \u001b[0;32m5\u001b[0m\n\u001b[0;31m    study_name = #TODO\u001b[0m\n\u001b[0m                      ^\u001b[0m\n\u001b[0;31mSyntaxError\u001b[0m\u001b[0;31m:\u001b[0m invalid syntax\n"
     ]
    }
   ],
   "source": [
    "class Tracker(Document):\n",
    "    \n",
    "    name = StringField()\n",
    "\n",
    "    study_name = #TODO\n",
    "    \n",
    "    individual_taxon_canonical_name = StringField()\n",
    "     \n",
    "    individual_local_identifier =  #TODO"
   ]
  },
  {
   "cell_type": "markdown",
   "metadata": {},
   "source": [
    "In de tabel hieronder vind je de data en datatype dat behoort tot het transmission document:\n",
    "\n",
    "|Column|Type|Desc.|\n",
    "|--|--|--|\n",
    "|event-id |int|\n",
    "|timestamp |datetime|\n",
    "|coord|point|\n",
    "|alt|int|\n",
    "|speed|float|\n",
    "|heading| float|\n",
    "\n",
    "#### Opdracht 2: Vul het transmission document aan met de benodigde fieldtypes\n",
    "---"
   ]
  },
  {
   "cell_type": "code",
   "execution_count": 32,
   "metadata": {},
   "outputs": [],
   "source": [
    "class Transmission(Document):\n",
    "    \n",
    "    event_id = IntField()\n",
    "    \n",
    "    timestamp =  #TODO\n",
    "    \n",
    "    coord = PointField()\n",
    "    \n",
    "    alt = FloatField()\n",
    "    \n",
    "    speed =  #TODO\n",
    "    \n",
    "    heading =  #TODO\n",
    "\n",
    "    tracker = ReferenceField(Tracker)"
   ]
  },
  {
   "cell_type": "markdown",
   "metadata": {},
   "source": [
    "---"
   ]
  },
  {
   "cell_type": "markdown",
   "metadata": {},
   "source": [
    "# Creëren van het datamodel voor de GPS route datasets\n",
    "---"
   ]
  },
  {
   "cell_type": "code",
   "execution_count": 39,
   "metadata": {},
   "outputs": [],
   "source": [
    "class Trail(Document):\n",
    "\n",
    "    name = StringField()\n"
   ]
  },
  {
   "cell_type": "markdown",
   "metadata": {},
   "source": [
    "#### Opdracht 3: Vul het signal document aan met de benodigde fieldtypes\n",
    "\n",
    "In de tabel hieronder vind je de data dat behoort tot het signal document:\n",
    "\n",
    "|Column|Type|\n",
    "|--|--|\n",
    "|timestamp |datetime|\n",
    "|coord|point|\n",
    "|alt|float|\n",
    "\n",
    "\n",
    "Daarnaast moet je in dit geval ook een referentie meegeven naar de Trail document. Dit heb je geleerd in de slides net. <br>\n",
    "Indien je er niet uitkomt kan je altijd kijken naar hoe het is gedaan in de Transmission document \n",
    "\n"
   ]
  },
  {
   "cell_type": "code",
   "execution_count": 40,
   "metadata": {},
   "outputs": [],
   "source": [
    "class Signal(Document):\n",
    "    \n",
    "    timestamp =  #TODO\n",
    "    \n",
    "    coord = PointField()\n",
    "    \n",
    "    alt = FloatField()\n",
    "    \n",
    "    trail =  #TODO"
   ]
  },
  {
   "cell_type": "markdown",
   "metadata": {},
   "source": [
    "---"
   ]
  },
  {
   "cell_type": "markdown",
   "metadata": {},
   "source": [
    "---"
   ]
  },
  {
   "cell_type": "markdown",
   "metadata": {},
   "source": [
    "## Einde opdracht 1, 2 en 3, verdere instructies volgen"
   ]
  },
  {
   "cell_type": "markdown",
   "metadata": {},
   "source": [
    "---"
   ]
  },
  {
   "cell_type": "markdown",
   "metadata": {},
   "source": [
    "---"
   ]
  },
  {
   "cell_type": "markdown",
   "metadata": {},
   "source": [
    "## Creëren van functie voor importeren van de Kraanvogel data\n",
    "---"
   ]
  },
  {
   "cell_type": "code",
   "execution_count": 33,
   "metadata": {},
   "outputs": [],
   "source": [
    "def load_crane_data(df,name):\n",
    "    \n",
    "    # Hier creeren we een nieuw Tracker document en wijzen deze toe aan de variable: \"Tracker\"\n",
    "    tracker = Tracker(study_name = df.at[0,'study-name'],\n",
    "                      individual_taxon_canonical_name = df.at[0,'individual-taxon-canonical-name'],\n",
    "                      individual_local_identifier = df.at[0,'individual-local-identifier'],\n",
    "                      name = name,).save()\n",
    "\n",
    "    transmissions = []\n",
    "\n",
    "    for index,row in df.iterrows():\n",
    "        transmissions.append(Transmission(event_id = row['event-id'],\n",
    "                                          timestamp = row['timestamp'],\n",
    "                                          coord = [row['location-long'],row['location-lat']],\n",
    "                                          alt = row['height-above-ellipsoid'],\n",
    "                                          speed = row['ground-speed'],\n",
    "                                          tracker = tracker)).save()\n",
    "    \n",
    "    \n",
    "    print(\"Done inserting \"+ str(len(df.index)) + \" transmissions\")"
   ]
  },
  {
   "cell_type": "markdown",
   "metadata": {},
   "source": [
    "---"
   ]
  },
  {
   "cell_type": "markdown",
   "metadata": {},
   "source": [
    "## Creëren van functie voor importeren van de GPS route data\n",
    "---"
   ]
  },
  {
   "cell_type": "code",
   "execution_count": 10,
   "metadata": {},
   "outputs": [],
   "source": [
    "def load_route_data(df,name):\n",
    "    \n",
    "    \n",
    "    # # # # # # # # # # # # # # # # # # # # # # # # # # # # # # # # # # # # # # # # # # # \n",
    "    #                                                                                   #\n",
    "    #      OPDRACHT 4: Definieer de code voor het creeren van een Trail document        #\n",
    "    #                                                                                   #\n",
    "    # # # # # # # # # # # # # # # # # # # # # # # # # # # # # # # # # # # # # # # # # # #\n",
    "    # \n",
    "    # Om een document aan te maken moet je eerst aangeven welk document je wilt creeren.\n",
    "    # Daarna geef je aan welke kolommen, uit het dataframe, moeten worden toegewezen aan\n",
    "    # de bijbehorende fields van het document.\n",
    "    #\n",
    "    # Hiervoor moet je eerst weten welke fields er benodigd zijn voor de creatie van het\n",
    "    # document. Hiervoor kan je terug kijken naar de code voor de declaratie van het Trail\n",
    "    # document. \n",
    "    #  \n",
    "    # # # # # # # # # # # # # # # # # # # # # # # # # # # # # # # # # # # # # # # # # # #\n",
    "    \n",
    "    trail = #TODO\n",
    "\n",
    "    signals = []\n",
    "    \n",
    "    for index,row in df.iterrows():\n",
    "        \n",
    "        time = datetime.fromtimestamp(row['time']/1000)\n",
    "        \n",
    "\n",
    "        # # # # # # # # # # # # # # # # # # # # # # # # # # # # # # # # # # # # # # # # # # # # #\n",
    "        #                                                                                       #\n",
    "        #      OPDRACHT 5: Definieer de code voor het creeren van de Signal document            #\n",
    "        #                                                                                       #\n",
    "        # # # # # # # # # # # # # # # # # # # # # # # # # # # # # # # # # # # # # # # # # # # # # \n",
    "        #                                                                                       \n",
    "        # Hier moeten we weer aangeven wat voor type document we willen creeren.                            \n",
    "        # Daarna geef je weer aan welke kolomen uit het dataframe moeten worden toegewezen \n",
    "        # aan de fields van het document.\n",
    "        #                                                                                       \n",
    "        # Om er achter te komen welke fields er benodigd zijn in een Signal document kan je\n",
    "        # weer terug kijken naar de creatie van het Signal document in opdracht 3.       \n",
    "        #  \n",
    "        # # # # # # # # # # # # # # # # # # # # # # # # # # # # # # # # # # # # # # # # # # # # # \n",
    "        singal = #TODO\n",
    "    \n",
    "        signals.append(singal)\n",
    "\n",
    "    Signal.objects.insert(signals,load_bulk=True)"
   ]
  },
  {
   "cell_type": "markdown",
   "metadata": {},
   "source": [
    "---"
   ]
  },
  {
   "cell_type": "code",
   "execution_count": 9,
   "metadata": {},
   "outputs": [
    {
     "data": {
      "text/plain": [
       "MongoClient(host=['localhost:27017'], document_class=dict, tz_aware=False, connect=True, read_preference=Primary())"
      ]
     },
     "execution_count": 9,
     "metadata": {},
     "output_type": "execute_result"
    }
   ],
   "source": [
    "connect('Crane_Database_', alias='Crane_Database')"
   ]
  },
  {
   "cell_type": "code",
   "execution_count": 35,
   "metadata": {
    "collapsed": true
   },
   "outputs": [
    {
     "name": "stdout",
     "output_type": "stream",
     "text": [
      "Done inserting 44534 transmissions\n"
     ]
    }
   ],
   "source": [
    "load_crane_data(Agnetha,\"Agnetha\")"
   ]
  },
  {
   "cell_type": "code",
   "execution_count": 36,
   "metadata": {
    "collapsed": true
   },
   "outputs": [
    {
     "name": "stdout",
     "output_type": "stream",
     "text": [
      "Done inserting 123805 transmissions\n"
     ]
    }
   ],
   "source": [
    "load_crane_data(Frida,\"Frida\")"
   ]
  },
  {
   "cell_type": "code",
   "execution_count": 37,
   "metadata": {
    "collapsed": true
   },
   "outputs": [
    {
     "name": "stdout",
     "output_type": "stream",
     "text": [
      "Done inserting 67887 transmissions\n"
     ]
    }
   ],
   "source": [
    "load_crane_data(Cajsa,\"Cajsa\")"
   ]
  },
  {
   "cell_type": "code",
   "execution_count": 1,
   "metadata": {
    "collapsed": true
   },
   "outputs": [
    {
     "ename": "NameError",
     "evalue": "name 'connect' is not defined",
     "output_type": "error",
     "traceback": [
      "\u001b[0;31m\u001b[0m",
      "\u001b[0;31mNameError\u001b[0mTraceback (most recent call last)",
      "\u001b[0;32m<ipython-input-1-69bc4462e75f>\u001b[0m in \u001b[0;36m<module>\u001b[0;34m()\u001b[0m\n\u001b[0;32m----> 1\u001b[0;31m \u001b[0mconnect\u001b[0m\u001b[0;34m(\u001b[0m\u001b[0;34m'Trail_Database'\u001b[0m\u001b[0;34m)\u001b[0m\u001b[0;34m\u001b[0m\u001b[0m\n\u001b[0m",
      "\u001b[0;31mNameError\u001b[0m: name 'connect' is not defined"
     ]
    }
   ],
   "source": [
    "connect('Trail_Database_', alias='Trail_Database')"
   ]
  },
  {
   "cell_type": "code",
   "execution_count": 43,
   "metadata": {},
   "outputs": [],
   "source": [
    "load_route_data(Biesbosch,\"Biesbosch\")\n",
    "load_route_data(Zeeland_Camper_1,\"Zeeland Camper 1\")\n",
    "load_route_data(Zeeland_Camper_2,\"Zeeland Camper 2\")"
   ]
  },
  {
   "cell_type": "code",
   "execution_count": null,
   "metadata": {},
   "outputs": [],
   "source": []
  },
  {
   "cell_type": "code",
   "execution_count": null,
   "metadata": {},
   "outputs": [],
   "source": []
  }
 ],
 "metadata": {
  "kernelspec": {
   "display_name": "Python 2",
   "language": "python",
   "name": "python2"
  },
  "language_info": {
   "codemirror_mode": {
    "name": "ipython",
    "version": 2
   },
   "file_extension": ".py",
   "mimetype": "text/x-python",
   "name": "python",
   "nbconvert_exporter": "python",
   "pygments_lexer": "ipython2",
   "version": "2.7.17"
  }
 },
 "nbformat": 4,
 "nbformat_minor": 2
}
