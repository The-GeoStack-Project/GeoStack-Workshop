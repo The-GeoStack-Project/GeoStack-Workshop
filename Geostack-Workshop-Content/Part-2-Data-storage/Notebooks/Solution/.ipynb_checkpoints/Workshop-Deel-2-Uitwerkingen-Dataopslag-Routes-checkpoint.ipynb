{
 "cells": [
  {
   "cell_type": "markdown",
   "metadata": {},
   "source": [
    "# Workshop deel 2: Dataopslag \n",
    "---\n",
    "## Uitwerking van notebook : Dataopslag  Kraanvogel datasets\n",
    "---\n",
    "\n",
    "## Inhoud van de notebook\n",
    "- Importeren van benodigde modules\n",
    "- Importeren van de Kraanvogel datasets\n",
    "- Validatie van de Kraanvogel datasets\n",
    "- Connectie aan de MongoDB database\n",
    "- Creeren van data model\n",
    "- Creeren van data importatie functie\n",
    "- Gebruiken van de gecreerde functie\n",
    "\n",
    "## Opdrachten in notebook\n",
    "1. a\n",
    "2. a\n",
    "3. a\n",
    "\n",
    "## Datasets in notebook. (\"../../Datasets/JSON/\")\n",
    "- 20181003_Dataset_SV_GPS_Crane_9381_STAW_Crane_RRW-BuGBk_Frida.json\n",
    "- 20181003_Dataset_SV_GPS_Crane_9407_STAW_Crane_RRW-BuGBk_Agnetha.json\n",
    "- 20181003_Dataset_SV_GPS_Crane_9472_STAW_Crane_RRW-BuGR_Cajsa.json\n",
    "  \n",
    "    \n",
    "    "
   ]
  },
  {
   "cell_type": "markdown",
   "metadata": {},
   "source": [
    "---\n",
    "### Importeren van de benodigde modules\n",
    "---"
   ]
  },
  {
   "cell_type": "code",
   "execution_count": 2,
   "metadata": {},
   "outputs": [],
   "source": [
    "import pandas as pd\n",
    "\n",
    "from mongoengine import * \n",
    "\n",
    "from datetime import datetime"
   ]
  },
  {
   "cell_type": "markdown",
   "metadata": {},
   "source": [
    "---\n",
    "### Importeren van de Kraanvogel datasets\n",
    "---"
   ]
  },
  {
   "cell_type": "code",
   "execution_count": 3,
   "metadata": {},
   "outputs": [],
   "source": [
    "Agnetha = pd.read_json('../../Datasets/JSON/20181003_Dataset_SV_GPS_Crane_9407_STAW_Crane_RRW-BuGBk_Agnetha.json')\n",
    "Frida = pd.read_json('../../Datasets/JSON/20181003_Dataset_SV_GPS_Crane_9381_STAW_Crane_RRW-BuGBk_Frida.json')\n",
    "Cajsa = pd.read_json('../../Datasets/JSON/20181003_Dataset_SV_GPS_Crane_9472_STAW_Crane_RRW-BuGR_Cajsa.json')"
   ]
  },
  {
   "cell_type": "markdown",
   "metadata": {},
   "source": [
    "---\n",
    "### validatie van de Kraanvogel datasets\n",
    "---"
   ]
  },
  {
   "cell_type": "markdown",
   "metadata": {},
   "source": [
    "#### Opdracht 1 : Valideer of de datasets correct zijn geimporteerd"
   ]
  },
  {
   "cell_type": "markdown",
   "metadata": {},
   "source": [
    "#### Opdracht 2 : Connect aan MongoDb database"
   ]
  },
  {
   "cell_type": "code",
   "execution_count": 7,
   "metadata": {},
   "outputs": [
    {
     "data": {
      "text/plain": [
       "MongoClient(host=['localhost:27017'], document_class=dict, tz_aware=False, connect=True, read_preference=Primary())"
      ]
     },
     "execution_count": 7,
     "metadata": {},
     "output_type": "execute_result"
    }
   ],
   "source": [
    "connect('Trail_Database')"
   ]
  },
  {
   "cell_type": "markdown",
   "metadata": {},
   "source": [
    "#### Opdracht 3 : Creer een data model"
   ]
  },
  {
   "cell_type": "code",
   "execution_count": 8,
   "metadata": {},
   "outputs": [],
   "source": [
    "class Trail(Document):\n",
    "    # Name of the Trail \n",
    "    name = StringField()\n",
    "    \n",
    "    # Start date\n",
    "    s_date= DateTimeField()\n",
    "    \n",
    "    # End date\n",
    "    e_date = DateTimeField()\n",
    "    \n",
    "    # Trail type (Biking,Hiking,Driving,Sailing )\n",
    "    r_type = StringField() \n",
    "\n",
    "    # Amount of trackpoints in the dataset\n",
    "    t_points = IntField()\n",
    "\n",
    "class Geometry(EmbeddedDocument):\n",
    " \n",
    "    # coordinates of transmission coord=[1,2]\n",
    "    coord = PointField()\n",
    "    \n",
    "    # altitude of tansmission\n",
    "    alt = FloatField()\n",
    "\n",
    "    \n",
    "\n",
    "class Signal(Document):\n",
    "    # Timestamp of transmission\n",
    "    time = DateTimeField()\n",
    "    \n",
    "    # Geometry of transmission\n",
    "    geometry = EmbeddedDocumentField(Geometry)\n",
    "    \n",
    "    # Reference to the route of transmission\n",
    "    trail = ReferenceField(Trail)"
   ]
  },
  {
   "cell_type": "markdown",
   "metadata": {},
   "source": [
    "#### Opdracht 4: Creer een functie voor het inladen van de kraanvogel data"
   ]
  },
  {
   "cell_type": "code",
   "execution_count": 1,
   "metadata": {},
   "outputs": [],
   "source": [
    "def load_data(df,name,abreviation,type):\n",
    "    \n",
    "    # Get the time of the first column\n",
    "    # /1000 to remove utc info\n",
    "    s_date = datetime.fromtimestamp((df.at[0,'time']/1000))\n",
    "    \n",
    "    # Get the time of the last column\n",
    "    # dataframe at location [index lenght data frame -1, column name]\n",
    "    # /1000 to remove utc info\n",
    "    e_date = datetime.fromtimestamp((df.at[len(df.index)-1,'time']/1000))\n",
    "    \n",
    "    t_points = df.shape[0]\n",
    "    \n",
    "\n",
    "    #Create the trial document\n",
    "    trail = Trail(name = name,\n",
    "                  brv = abreviation,\n",
    "                  s_date = s_date,\n",
    "                  e_date = e_date,\n",
    "                  type = type,\n",
    "                  t_points = t_points)\n",
    "    trail.save()\n",
    "\n",
    "    # Create an empty list of signals\n",
    "    # We will append the new signals to \n",
    "    # this list. Then we will pass the list to \n",
    "    # the mongodb bulk insert feature\n",
    "    signals = []\n",
    "    \n",
    "    \n",
    "    # Itterate trough all rows in dataframe\n",
    "    for index,row in df.iterrows():\n",
    "        \n",
    "        # Convert the datetime to a valid format\n",
    "        time = datetime.fromtimestamp(row['time']/1000)\n",
    "        \n",
    "        # Create the geometry document\n",
    "        geometry = Geometry([row['lon'],row['lat']], \n",
    "                            row['alt'])\n",
    "        \n",
    "        # Create the speed document\n",
    "        # Make sure null values are inserted as 0\n",
    "        if str(row['spd'])== 'nan':\n",
    "            speed = Speed(0)\n",
    "        else:\n",
    "            speed = Speed(row['spd'])\n",
    "    \n",
    "        # Create the Signal document\n",
    "        signals.append(Signal(time,\n",
    "                       geometry,\n",
    "                       speed,\n",
    "                       trail))\n",
    "\n",
    "    Signal.objects.insert(signals,load_bulk=True)\n",
    "\n",
    "    print(\"Inserted \" + str(len(df.index))+\" trackpoints from dataset: \" + str(name))\n"
   ]
  },
  {
   "cell_type": "markdown",
   "metadata": {},
   "source": [
    "#### Opdracht 5: Gebruik de functie om de data in te laden"
   ]
  },
  {
   "cell_type": "code",
   "execution_count": 23,
   "metadata": {},
   "outputs": [
    {
     "name": "stdout",
     "output_type": "stream",
     "text": [
      "Start appending transmissions to list from: Agnetha\n",
      "Bulk inserting: 44534 transmissions from: Agnetha\n",
      "Done inserting 44534 transmissions\n",
      "Start appending transmissions to list from: Frida\n",
      "Bulk inserting: 123805 transmissions from: Frida\n",
      "Done inserting 123805 transmissions\n",
      "Start appending transmissions to list from: Cajsa\n",
      "Bulk inserting: 67887 transmissions from: Cajsa\n",
      "Done inserting 67887 transmissions\n"
     ]
    }
   ],
   "source": [
    "load_data(Agnetha,\"Agnetha\")\n",
    "load_data(Frida,\"Frida\")\n",
    "load_data(Cajsa,\"Cajsa\")"
   ]
  },
  {
   "cell_type": "code",
   "execution_count": null,
   "metadata": {},
   "outputs": [],
   "source": []
  }
 ],
 "metadata": {
  "kernelspec": {
   "display_name": "Python 2",
   "language": "python",
   "name": "python2"
  },
  "language_info": {
   "codemirror_mode": {
    "name": "ipython",
    "version": 2
   },
   "file_extension": ".py",
   "mimetype": "text/x-python",
   "name": "python",
   "nbconvert_exporter": "python",
   "pygments_lexer": "ipython2",
   "version": "2.7.17"
  }
 },
 "nbformat": 4,
 "nbformat_minor": 2
}
