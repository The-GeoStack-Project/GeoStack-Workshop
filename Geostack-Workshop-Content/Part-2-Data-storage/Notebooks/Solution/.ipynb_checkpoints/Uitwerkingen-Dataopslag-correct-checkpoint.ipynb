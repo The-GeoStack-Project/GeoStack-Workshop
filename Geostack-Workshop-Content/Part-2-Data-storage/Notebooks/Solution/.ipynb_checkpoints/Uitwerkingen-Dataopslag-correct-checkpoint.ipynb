{
 "cells": [
  {
   "cell_type": "markdown",
   "metadata": {},
   "source": [
    "# Workshop deel 2: Dataopslag \n",
    "---\n",
    "## Uitwerkingen notebook\n",
    "---\n",
    "\n",
    "## Inhoud van de notebook\n",
    "\n",
    "- Importeren van benodigde modules\n",
    "- Importeren van de datasets\n",
    "\n",
    "- Creeren van data modellen\n",
    "- Creeren van de functies voor het importeren van de data\n",
    "\n",
    "- Connectie aan de MongoDB databases\n",
    "- Gebruiken van de gecreerde functies\n",
    "\n",
    "\n",
    "## Opdrachten in notebook\n",
    "1. Opdracht 1: Vul het tracker document aan met de benodigde fieldtypes\n",
    "2. Opdracht 2: Vul het transmission document aan met de benodigde fieldtypes\n",
    "3. Opdracht 3: Vul het signal document aan met de benodigde fieldtypes\n",
    "4. Opdracht 4: Definieer de code voor het creeren van een Trail document \n",
    "5. Opdracht 5: Definieer de code voor het creeren van een Signal document \n",
    "    \n",
    "    "
   ]
  },
  {
   "cell_type": "markdown",
   "metadata": {},
   "source": [
    "---\n",
    "### Importeren van de benodigde modules\n",
    "---"
   ]
  },
  {
   "cell_type": "code",
   "execution_count": 46,
   "metadata": {},
   "outputs": [],
   "source": [
    "import pandas as pd\n",
    "from mongoengine import * \n",
    "from datetime import datetime"
   ]
  },
  {
   "cell_type": "markdown",
   "metadata": {},
   "source": [
    "### Importeren van de Kraanvogel datasets\n",
    "---"
   ]
  },
  {
   "cell_type": "code",
   "execution_count": 47,
   "metadata": {},
   "outputs": [],
   "source": [
    "Agnetha = pd.read_json('../../Datasets/JSON/Kraanvogel-Agnetha.json')\n",
    "Frida = pd.read_json('../../Datasets/JSON/Kraanvogel-Frida.json')\n",
    "Cajsa = pd.read_json('../../Datasets/JSON/Kraanvogel-Cajsa.json')"
   ]
  },
  {
   "cell_type": "markdown",
   "metadata": {},
   "source": [
    "### Importeren van de GPS route datasets\n",
    "---"
   ]
  },
  {
   "cell_type": "code",
   "execution_count": 48,
   "metadata": {},
   "outputs": [],
   "source": [
    "Biesbosch = pd.read_json('../../Datasets/JSON/Route-Biesbosch.json')\n",
    "Zeeland_Camper_1 = pd.read_json('../../Datasets/JSON/Route-Zeeland_Camper_1.json')\n",
    "Zeeland_Camper_2 = pd.read_json('../../Datasets/JSON/Route-Zeeland_Camper_2.json')"
   ]
  },
  {
   "cell_type": "markdown",
   "metadata": {},
   "source": [
    "---"
   ]
  },
  {
   "cell_type": "markdown",
   "metadata": {},
   "source": [
    "# Creëren van het datamodel voor de Kraanvogel datasets"
   ]
  },
  {
   "cell_type": "markdown",
   "metadata": {},
   "source": [
    "In de tabel hieronder vind je de data en datatype dat behoort tot het tracker document:\n",
    "\n",
    "|Column|Type|\n",
    "|--|--|\n",
    "|name|string|\n",
    "|study-name|string|\n",
    "|individual-taxon-canonical-name|string|\n",
    "|individual-local-identifier|int|\n",
    "\n",
    "#### Opdracht 1: Vul het tracker document aan met de benodigde fieldtypes\n",
    "\n",
    "---"
   ]
  },
  {
   "cell_type": "code",
   "execution_count": 49,
   "metadata": {},
   "outputs": [],
   "source": [
    "class Tracker(Document):\n",
    "    \n",
    "    name = StringField()\n",
    "\n",
    "    study_name = StringField() #TODO\n",
    "    \n",
    "    individual_taxon_canonical_name = StringField()\n",
    "     \n",
    "    individual_local_identifier =  IntField() #TODO"
   ]
  },
  {
   "cell_type": "markdown",
   "metadata": {},
   "source": [
    "In de tabel hieronder vind je de data en datatype dat behoort tot het transmission document:\n",
    "\n",
    "|Column|Type|Desc.|\n",
    "|--|--|--|\n",
    "|event-id |int|\n",
    "|timestamp |datetime|\n",
    "|coord|point[]| Dit is een array van de latitude en longitude coordinaten |\n",
    "|alt|int|\n",
    "|speed|float|\n",
    "|heading| float|\n",
    "\n",
    "#### Opdracht 2: Vul het transmission document aan met de benodigde fieldtypes\n",
    "---"
   ]
  },
  {
   "cell_type": "code",
   "execution_count": 50,
   "metadata": {},
   "outputs": [],
   "source": [
    "class Transmission(Document):\n",
    "    \n",
    "    event_id = IntField()\n",
    "    \n",
    "    timestamp = DateTimeField() #TODO\n",
    "    \n",
    "    coord = PointField()\n",
    "    \n",
    "    alt = FloatField()\n",
    "    \n",
    "    speed = FloatField() #TODO\n",
    "    \n",
    "    heading = IntField() #TODO\n",
    "\n",
    "    tracker = ReferenceField(Tracker)"
   ]
  },
  {
   "cell_type": "markdown",
   "metadata": {},
   "source": [
    "---"
   ]
  },
  {
   "cell_type": "markdown",
   "metadata": {},
   "source": [
    "# Creëren van het datamodel voor de GPS route datasets\n",
    "---"
   ]
  },
  {
   "cell_type": "code",
   "execution_count": 51,
   "metadata": {},
   "outputs": [],
   "source": [
    "class Trail(Document):\n",
    "\n",
    "    name = StringField()\n"
   ]
  },
  {
   "cell_type": "markdown",
   "metadata": {},
   "source": [
    "#### Opdracht 3: Vul het signal document aan met de benodigde fieldtypes\n",
    "\n",
    "In de tabel hieronder vind je de data dat behoort tot het signal document:\n",
    "\n",
    "|Column|Type|\n",
    "|--|--|\n",
    "|timestamp |datetime|\n",
    "|coord|point[]| Dit is een array van de latitude en longitude coordinaten |\n",
    "|alt|float|\n",
    "\n",
    "\n",
    "Daarnaast moet je in dit geval ook een referentie meegeven naar de Trail document. Dit heb je geleerd in de slides net. <br>\n",
    "Indien je er niet uitkomt kan je altijd kijken naar hoe het is gedaan in de Transmission document \n",
    "\n"
   ]
  },
  {
   "cell_type": "code",
   "execution_count": 52,
   "metadata": {},
   "outputs": [],
   "source": [
    "class Signal(Document):\n",
    "    \n",
    "    timestamp = DateTimeField() #TODO\n",
    "    \n",
    "    coord = PointField()\n",
    "    \n",
    "    alt = FloatField()\n",
    "    \n",
    "    trail = ReferenceField(Trail) #TODO"
   ]
  },
  {
   "cell_type": "markdown",
   "metadata": {},
   "source": [
    "---"
   ]
  },
  {
   "cell_type": "markdown",
   "metadata": {},
   "source": [
    "---"
   ]
  },
  {
   "cell_type": "markdown",
   "metadata": {},
   "source": [
    "## Einde opdracht 1, 2 en 3, verdere instructies volgen"
   ]
  },
  {
   "cell_type": "markdown",
   "metadata": {},
   "source": [
    "---"
   ]
  },
  {
   "cell_type": "markdown",
   "metadata": {},
   "source": [
    "---"
   ]
  },
  {
   "cell_type": "markdown",
   "metadata": {},
   "source": [
    "## Creëren van functie voor importeren van de Kraanvogel data\n",
    "---"
   ]
  },
  {
   "cell_type": "code",
   "execution_count": 55,
   "metadata": {},
   "outputs": [],
   "source": [
    "def load_crane_data(df,name):\n",
    "    \n",
    "    tracker = Tracker(study_name = df.at[0,'study-name'],\n",
    "                      individual_taxon_canonical_name = df.at[0,'individual-taxon-canonical-name'],\n",
    "                      individual_local_identifier = df.at[0,'individual-local-identifier'],\n",
    "                      name = name,).save()\n",
    "\n",
    "    transmissions = []\n",
    "\n",
    "    for index,row in df[:100].iterrows():\n",
    "        transmissions.append(Transmission(event_id = row['event-id'],\n",
    "                                          timestamp = row['timestamp'],\n",
    "                                          coord = [row['location-long'],row['location-lat']],\n",
    "                                          alt = row['height-above-ellipsoid'],\n",
    "                                          speed = row['ground-speed'],\n",
    "                                          tracker = tracker))\n",
    "        \n",
    "    Transmission.objects.insert(transmissions,load_bulk=True)\n",
    "    \n",
    "    print(\"Klaar met het importeren van: \" + name)"
   ]
  },
  {
   "cell_type": "markdown",
   "metadata": {},
   "source": [
    "---"
   ]
  },
  {
   "cell_type": "markdown",
   "metadata": {},
   "source": [
    "## Creëren van functie voor importeren van de GPS route data\n",
    "---"
   ]
  },
  {
   "cell_type": "code",
   "execution_count": 56,
   "metadata": {},
   "outputs": [],
   "source": [
    "def load_route_data(df,name):\n",
    "    \n",
    "    \n",
    "    # # # # # # # # # # # # # # # # # # # # # # # # # # # # # # # # # # # # # # # # # # # \n",
    "    #                                                                                   #\n",
    "    #      OPDRACHT 4: Definieer de code voor het creeren van een Trail document        #\n",
    "    #                                                                                   #\n",
    "    # # # # # # # # # # # # # # # # # # # # # # # # # # # # # # # # # # # # # # # # # # #\n",
    "    # \n",
    "    # Om een document aan te maken moet je eerst aangeven welk document je wilt creeren.\n",
    "    # Daarna geef je aan welke kolommen, uit het dataframe, moeten worden toegewezen aan\n",
    "    # de bijbehorende fields van het document.\n",
    "    #\n",
    "    # Hiervoor moet je eerst weten welke fields er benodigd zijn voor de creatie van het\n",
    "    # document. Hiervoor kan je terug kijken naar de code voor de declaratie van het Trail\n",
    "    # document. \n",
    "    #\n",
    "    # TIP: De waarde van de field komt staat niet in de dataset. Deze waarde geven wij\n",
    "    # zelf mee bij het aanroepen van deze functie \n",
    "    #\n",
    "    # # # # # # # # # # # # # # # # # # # # # # # # # # # # # # # # # # # # # # # # # # #\n",
    "    \n",
    "    trail = Trail(name=name) #TODO\n",
    "\n",
    "    trail.save() \n",
    "    \n",
    "    for index,row in df[:100].iterrows():\n",
    "        \n",
    "        # Hier word de data voor de timestamp field aangewezen aan variable; \"time\"\n",
    "        time = datetime.fromtimestamp(row['time']/1000)\n",
    "        \n",
    "\n",
    "        # # # # # # # # # # # # # # # # # # # # # # # # # # # # # # # # # # # # # # # # # # # # #\n",
    "        #                                                                                       #\n",
    "        #      OPDRACHT 5: Definieer de code voor het creeren van de Signal document            #\n",
    "        #                                                                                       #\n",
    "        # # # # # # # # # # # # # # # # # # # # # # # # # # # # # # # # # # # # # # # # # # # # # \n",
    "        #                                                                                       \n",
    "        # Hier moeten we weer aangeven wat voor type document we willen creeren.                            \n",
    "        # Daarna geef je weer aan welke kolomen uit het dataframe moeten worden toegewezen \n",
    "        # aan de fields van het document.\n",
    "        #                                                                                       \n",
    "        # Om er achter te komen welke fields er benodigd zijn in een Signal document, kan je\n",
    "        # weer terug kijken naar de creatie van het Signal document in opdracht 3.\n",
    "        # \n",
    "        # TIP: De data voor de field; \"timestamp\" is al gedefinieerd. Je hoeft deze alleen nog\n",
    "        # toe te wijzen aan de bijbehorende field in de Signal document\n",
    "        # \n",
    "        # # # # # # # # # # # # # # # # # # # # # # # # # # # # # # # # # # # # # # # # # # # # # \n",
    "        signal = Signal(timestamp = time,\n",
    "                        coord=[row['lon'],row['lat']],\n",
    "                        alt = row['alt'],\n",
    "                        trail = trail) #TODO\n",
    "    \n",
    "        signal.save()\n",
    "        \n",
    "    print(\"Klaar met het importeren van: \" + name)\n"
   ]
  },
  {
   "cell_type": "markdown",
   "metadata": {},
   "source": [
    "---"
   ]
  },
  {
   "cell_type": "markdown",
   "metadata": {},
   "source": [
    "---\n",
    "### Connecten aan de Kraanvogel database\n",
    "---"
   ]
  },
  {
   "cell_type": "code",
   "execution_count": 57,
   "metadata": {},
   "outputs": [
    {
     "data": {
      "text/plain": [
       "MongoClient(host=['localhost:27017'], document_class=dict, tz_aware=False, connect=True, read_preference=Primary())"
      ]
     },
     "execution_count": 57,
     "metadata": {},
     "output_type": "execute_result"
    }
   ],
   "source": [
    "disconnect('default')\n",
    "connect('Crane_Database_')"
   ]
  },
  {
   "cell_type": "markdown",
   "metadata": {},
   "source": [
    "---\n",
    "### Inladen van de Kraanvogel data\n",
    "---"
   ]
  },
  {
   "cell_type": "code",
   "execution_count": 58,
   "metadata": {},
   "outputs": [
    {
     "name": "stdout",
     "output_type": "stream",
     "text": [
      "Klaar met het importeren van: Agnetha\n",
      "Klaar met het importeren van: Frida\n",
      "Klaar met het importeren van: Cajsa\n"
     ]
    }
   ],
   "source": [
    "load_crane_data(Agnetha,\"Agnetha\")\n",
    "load_crane_data(Frida,\"Frida\")\n",
    "load_crane_data(Cajsa,\"Cajsa\")"
   ]
  },
  {
   "cell_type": "markdown",
   "metadata": {},
   "source": [
    "---\n",
    "### Connecten aan de GPS route database\n",
    "---"
   ]
  },
  {
   "cell_type": "code",
   "execution_count": 59,
   "metadata": {},
   "outputs": [
    {
     "data": {
      "text/plain": [
       "MongoClient(host=['localhost:27017'], document_class=dict, tz_aware=False, connect=True, read_preference=Primary())"
      ]
     },
     "execution_count": 59,
     "metadata": {},
     "output_type": "execute_result"
    }
   ],
   "source": [
    "disconnect('default')\n",
    "connect('Trail_Database_')"
   ]
  },
  {
   "cell_type": "markdown",
   "metadata": {},
   "source": [
    "---\n",
    "### Inladen van de GPS route data\n",
    "---"
   ]
  },
  {
   "cell_type": "code",
   "execution_count": 60,
   "metadata": {},
   "outputs": [
    {
     "name": "stdout",
     "output_type": "stream",
     "text": [
      "Klaar met het importeren van: Biesbosch\n",
      "Klaar met het importeren van: Zeeland Camper 1\n",
      "Klaar met het importeren van: Zeeland Camper 2\n"
     ]
    }
   ],
   "source": [
    "load_route_data(Biesbosch,\"Biesbosch\")\n",
    "load_route_data(Zeeland_Camper_1,\"Zeeland Camper 1\")\n",
    "load_route_data(Zeeland_Camper_2,\"Zeeland Camper 2\")"
   ]
  },
  {
   "cell_type": "code",
   "execution_count": null,
   "metadata": {},
   "outputs": [],
   "source": []
  },
  {
   "cell_type": "code",
   "execution_count": null,
   "metadata": {},
   "outputs": [],
   "source": []
  }
 ],
 "metadata": {
  "kernelspec": {
   "display_name": "Python 2",
   "language": "python",
   "name": "python2"
  },
  "language_info": {
   "codemirror_mode": {
    "name": "ipython",
    "version": 2
   },
   "file_extension": ".py",
   "mimetype": "text/x-python",
   "name": "python",
   "nbconvert_exporter": "python",
   "pygments_lexer": "ipython2",
   "version": "2.7.17"
  }
 },
 "nbformat": 4,
 "nbformat_minor": 2
}
