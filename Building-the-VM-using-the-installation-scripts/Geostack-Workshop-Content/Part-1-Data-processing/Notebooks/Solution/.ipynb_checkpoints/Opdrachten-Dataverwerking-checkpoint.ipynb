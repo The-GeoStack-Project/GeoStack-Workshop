{
 "cells": [
  {
   "cell_type": "markdown",
   "metadata": {},
   "source": [
    "# Workshop deel 1: Dataverwerking \n",
    "---\n",
    "## Opdrachten notebook\n",
    "---\n",
    "\n",
    "## Inhoud van de notebook\n",
    "- Kraanvogel datasets\n",
    "    - Importeren van de Kraanvogel datasets\n",
    "    - Basis analyse van de Kraanvogel datasets\n",
    "    - Visualisatie van de kraanvogel datasets\n",
    "    - Exporteren van de Kraanvogel datasets naar JSON\n",
    "- GPSroute datasets\n",
    "    - Importeren van de GPS-route datasets\n",
    "    - Basis analyse van de GPS-route datasets\n",
    "    - Visualisatie van de GPS-route datasets\n",
    "    - Exporteren van de GPS-route datasets naar JSON\n",
    "\n",
    "## Opdrachten in notebook\n",
    "Kraanvogeldatasets opdrachten:\n",
    "1. Vind de hoeveelheid transmissies van de kraanvogel: \"Frida\"\n",
    "2. Vind de kolomnamen en hun datatype van de kraanvogel: \"Frida\"\n",
    "3. Visualiseer vliegroute van de kraanvogel: \"Frida\", door middel van MatplotLib en Cartopy\n",
    "4. Exporteer het dataframe van de kraanvogel: \"Frida\", naar het JSON bestandsformaat.\n",
    "\n",
    "GPS-route datasets opdrachten:\n",
    "5. Vind de hoeveelheid signalen van de GPS-route: \"Zeeland_Camper_1\"\n",
    "6. Vind de kolomnamen en hun datatype van de GPS-route: \"Zeeland_Camper_1\"\n",
    "7. Visualiseer de route van de GPS-route: \"Zeeland_Camper_1\", door middel van MatplotLib en Cartopy\n",
    "8. Exporteer het dataframe van de GPS-route: \"Zeeland_Camper_1\", naar het JSON bestandsformaat.\n",
    "\n",
    "\n",
    "    \n"
   ]
  },
  {
   "cell_type": "markdown",
   "metadata": {},
   "source": [
    "### Importeren van de benodigde modules\n",
    "---"
   ]
  },
  {
   "cell_type": "code",
   "execution_count": null,
   "metadata": {},
   "outputs": [],
   "source": [
    "import pandas as pd\n",
    "\n",
    "import gpxpy\n",
    "\n",
    "import matplotlib.pyplot as plt\n",
    "\n",
    "import cartopy\n",
    "\n",
    "import cartopy.crs as ccrs \n",
    "\n",
    "import cartopy.feature as cfeature "
   ]
  },
  {
   "cell_type": "markdown",
   "metadata": {},
   "source": [
    "# Kraanvogeldatasets"
   ]
  },
  {
   "cell_type": "markdown",
   "metadata": {},
   "source": [
    "---\n",
    "### Importeren van de Kraanvogel datasets\n",
    "\n",
    "\n",
    "De kraanvogel datasets hebben het bestandsformaat CSV en zijn te vinden in de folder '../../Datasets/CSV/'. \n",
    "Om een CSV dataset in te lezen, in een Pandas dataframe, gebruiken we de Pandas functie: \"read_csv()\". Als paramater geven we de bestandslocatie van het gewenste CSV bestand mee.\n",
    "\n",
    "Het bovengenoemde doen we per dataset. We wijzen de ingelezen resulaten toe aan een bijpassend variable.\n",
    "\n",
    "---"
   ]
  },
  {
   "cell_type": "code",
   "execution_count": null,
   "metadata": {},
   "outputs": [],
   "source": [
    "Agnetha = pd.read_csv('../../Datasets/CSV/20181003_Dataset_SV_GPS_Crane_9407_STAW_Crane_RRW-BuGBk_Agnetha.csv')\n",
    "Frida = pd.read_csv('../../Datasets/CSV/20181003_Dataset_SV_GPS_Crane_9381_STAW_Crane_RRW-BuGBk_Frida.csv')\n",
    "Cajsa = pd.read_csv('../../Datasets/CSV/20181003_Dataset_SV_GPS_Crane_9472_STAW_Crane_RRW-BuGR_Cajsa.csv')"
   ]
  },
  {
   "cell_type": "markdown",
   "metadata": {},
   "source": [
    "\n",
    "---\n",
    "### Basis analyse van de Kraanvogel datasets\n",
    "\n",
    "Hieronder volgt de basis analyse van de kraanvogel datasets. Aan de hand van deze analyse kunnen we uiteindelijk een datamodel gaan maken in deel 2 van deze workshop.  \n",
    "\n",
    "Gedurende deze analyse zullen de volgende dingen duidelijk worden: \n",
    "- Hoe groot is elke dataset?\n",
    "- Hoeveel kolommen heeft elke dataset?\n",
    "- Welke kolommen heeft elke dataset? \n",
    "- Waar staan deze kolommen voor \n",
    "---\n",
    "Eerst willen we de hoeveelheid transmissies per kraanvogel weten. De hoeveelheid transmissies is gelijk aan de hoeveelheid datarows in de dataset, van de desbetreffende kraanvogel.\n",
    "\n",
    "Om achter de hoeveelheid datarows in een dataframe te komen, gebruiken we de functie: \".shape\", op het dataframe waar we de hoeveelheid signalen van willen weten. Deze functie print de dimensionaliteit van een dataframe. \n",
    "\n",
    "De dimensionaliteit van een dataframe bestaat uit:\n",
    "- De hoeveelheid datarows op index 0 \n",
    "- De hoeveelheid kolommen op index 1\n",
    "\n",
    "De line hieronder print de hoeveelheid transmissies van de kraanvogel: \"Agnetha\". "
   ]
  },
  {
   "cell_type": "code",
   "execution_count": null,
   "metadata": {},
   "outputs": [],
   "source": [
    "Agnetha.shape[0]"
   ]
  },
  {
   "cell_type": "markdown",
   "metadata": {},
   "source": [
    "#### Opdracht 1 : Vind de hoeveelheid transmissies van de Kraanvogel: \"Frida\""
   ]
  },
  {
   "cell_type": "code",
   "execution_count": null,
   "metadata": {},
   "outputs": [],
   "source": [
    "#TODO"
   ]
  },
  {
   "cell_type": "markdown",
   "metadata": {},
   "source": [
    "De line hieronder print de hoeveelheid transmissies van de kraanvogel: \"Casja\""
   ]
  },
  {
   "cell_type": "code",
   "execution_count": null,
   "metadata": {},
   "outputs": [],
   "source": [
    "Cajsa.shape[0]"
   ]
  },
  {
   "cell_type": "markdown",
   "metadata": {},
   "source": [
    "---"
   ]
  },
  {
   "cell_type": "markdown",
   "metadata": {},
   "source": [
    "Nu willen, per kraanvogel dataset, de kolom namen en hun datatypes weten. <br>\n",
    "De line hieronder print de kolomnamen en hun datatypes van de kraanvogel: \"Agnetha\""
   ]
  },
  {
   "cell_type": "code",
   "execution_count": null,
   "metadata": {},
   "outputs": [],
   "source": [
    "Agnetha.dtypes"
   ]
  },
  {
   "cell_type": "markdown",
   "metadata": {},
   "source": [
    "#### Opdracht 2 : Vind de kolomnamen en hun datatypes, van de kraanvogel: \"Frida\""
   ]
  },
  {
   "cell_type": "code",
   "execution_count": null,
   "metadata": {},
   "outputs": [],
   "source": [
    "#TODO"
   ]
  },
  {
   "cell_type": "markdown",
   "metadata": {},
   "source": [
    "De line hieronder print de hoeveelheid transmissies van de kraanvogel: \"Cajsa\""
   ]
  },
  {
   "cell_type": "code",
   "execution_count": null,
   "metadata": {},
   "outputs": [],
   "source": [
    "Cajsa.dtypes"
   ]
  },
  {
   "cell_type": "markdown",
   "metadata": {},
   "source": [
    "---"
   ]
  },
  {
   "cell_type": "markdown",
   "metadata": {},
   "source": [
    "Nu gaan we een simpele visualisatie creern. <br>\n",
    "Hiervoor gaan we de Python libraries MatplotLib en Cartopy gebruiken."
   ]
  },
  {
   "cell_type": "code",
   "execution_count": null,
   "metadata": {},
   "outputs": [],
   "source": [
    "'''\n",
    "Hier maken we een nieuwe plot door middel van MatplotLib.\n",
    "We geven hier ook mee wat de grote van de plot moet worden.\n",
    "'''\n",
    "plt.figure(figsize = (20, 12))\n",
    "\n",
    "'''\n",
    "Hier creeren we een nieuwe Cartopy map. \n",
    "We geven hier ook wat voor type projectie de cartopy map moet krijgen.\n",
    "Dit doen we door middel van de code: \"ccrs.PlatteCarree()\", de crs staat voor:\"Coordinate Reference system\".\n",
    "Het type crs dat we gebruiken word \"PlateCarree\" genoemd. Dit is een type crs voor het weergeven van een\n",
    "map met een virekant graadnet (noorderbreedte en oosterlengte)\n",
    "'''\n",
    "cartopyMapKraanvogels = plt.axes(projection=ccrs.PlateCarree())\n",
    "\n",
    "'''\n",
    "Hier voegen we de kustlijnen toe aan de Cartopy map.\n",
    "'''\n",
    "cartopyMapKraanvogels.coastlines(resolution='10m')\n",
    "\n",
    "'''\n",
    "Hier creeren we het landopervlakte.\n",
    "De het landoppervlakte wordt weergeven in het wit.\n",
    "De randen, van het landopervlakte, worden weergeven in het zwart.\n",
    "'''\n",
    "cartopyMapKraanvogels.add_feature(cartopy.feature.LAND.with_scale('10m'), edgecolor='black', facecolor = \"white\")\n",
    "'''\n",
    "Hier voegen we de meren toe aan de Cartopy map.\n",
    "De randen van de meren worden weergeven in het zwart \n",
    "'''\n",
    "cartopyMapKraanvogels.add_feature(cfeature.LAKES.with_scale('10m'), edgecolor = 'black')\n",
    "\n",
    "'''\n",
    "Hier voegen we het zee oppervlak toe aan de Cartopy map.\n",
    "'''\n",
    "cartopyMapKraanvogels.add_feature(cfeature.OCEAN) \n",
    "\n",
    "'''\n",
    "Hier voegen we de rivieren toe aan de Cartopy map.\n",
    "'''\n",
    "cartopyMapKraanvogels.add_feature(cfeature.RIVERS.with_scale('10m')) \n",
    "\n",
    "'''\n",
    "Hier voegen we de landsgrenzen toe aan de Cartopy map.\n",
    "'''\n",
    "cartopyMapKraanvogels.add_feature(cfeature.BORDERS.with_scale('10m'))\n",
    "\n",
    "'''\n",
    "Nu willen we de kraanvogel routes plotten op de Cartopy map, die we hierboven hebben gecreerd.\n",
    "Dit doe we door middel van een scatter plot. Dit is een type plot van Matplotlib, \n",
    "voor het weergeven van datapunten.\n",
    "\n",
    "Om een dataset te plotten moeten we eerst aangeven op welke map we dat willen doen.\n",
    "Daarna geven we aan wat voor plot we willen creeren.\n",
    "Daarna moeten we een aantal waarde megeven aan de gekozen plot, deze waardes zijn als volgt:\n",
    "1) longitude coordinaten.\n",
    "2) latitude coordinaten.\n",
    "3) kleur van de datapunten.\n",
    "4) Radius (Grote) van datapunten.\n",
    "\n",
    "De volgende line met code is voor het toevoegen van de kraanvogel: \"Agnetha\", aan de Cartopy map.\n",
    "De volgende stappen worden ondernomen om een kraanvogelroute te plotten:\n",
    "\n",
    "1) Eerst geven we aan dat we een plot willen weergeven op de cartopy map genaamd: \"cartopyMapKraanvogels\".\n",
    "2) Daarna geven we het type plot aan genaamd: \"scatter\"\n",
    "3) Daarna geven aan welke kolom de longitude coordinaten van de kraanvogel bevat. Dit doen we door eerst\n",
    "   aan te geven van welk dataframe we dit kolom willen selecteren, en dan de naam van de kolom mee te geven.\n",
    "   In dit geval is het dataframe: \"Agnetha\" en de naam van de kolom: \"location-long\".\n",
    "4) Daarna doen we hetzelfde voor de latitude coordinaten.\n",
    "5) Daarna geven we aan welke kleur de datapunten moeten krijgen, rood in dit geval. \n",
    "6) Daarna geven we aan hoe groot de datapunten moeten worden, 1 in dit geval.\n",
    "'''\n",
    "cartopyMapKraanvogels.scatter(Agnetha['location-long'], Agnetha['location-lat'],color=\"red\", s = 1)\n",
    "\n",
    "\n",
    "# # # # # # # # # # # # # # # # # # # # # # # # # # # # # # # # # # # # # # # # # # # # #\n",
    "#                                                                                       #\n",
    "#             OPDRACHT 3: Voeg de kraanvogel:\"Frida\", toe aan de Cartopy Map.           #\n",
    "#                                                                                       #\n",
    "# # # # # # # # # # # # # # # # # # # # # # # # # # # # # # # # # # # # # # # # # # # # # \n",
    "\n",
    "#TODO\n",
    "\n",
    "'''\n",
    "Hier voegen we de kraanvogel: \"Casja\",toe aan de Cartopy map. Het volgende betreft de line met code:\n",
    "1) We plotten de kraanvogel op de cartopymap genaamd: \"cartopyMapKraanvogels\"\n",
    "2) We creeren een plot van het type:\"scatter\"\n",
    "3) We gebruiken het dataframe toe gewezen aan de variable: \"Cajsa\"\n",
    "4) De punten krijgen de kleur: Groen\n",
    "5) De grote van de datapunten is: 1\n",
    "'''\n",
    "cartopyMapKraanvogels.scatter(Cajsa['location-long'], Cajsa['location-lat'],color=\"green\", s = 1)"
   ]
  },
  {
   "cell_type": "markdown",
   "metadata": {},
   "source": [
    "---\n",
    "Nu dat we weten hoe de uiteindelijke kraanvogelroutes eruit gaan zien, kunnen we de dataframes exporteren naar het JSON bestandsformaat. <br>\n",
    "Om een dataframe te exporteren naar JSON, gebruiken we de Pandas functie: \"to_json()\". <br>\n",
    "Eerst moeten we aangeven welk dataframe we willen exporteren naar JSON. <br>\n",
    "Daarna voeren de functie: \"to_json()\"  uit op het desbetreffende dataframe. <br>\n",
    "\n",
    "In die functie moeten we meegeven waar het bestand word opgeslagen en wat voor naam het bestand gaat krijgen. <br>"
   ]
  },
  {
   "cell_type": "markdown",
   "metadata": {},
   "source": [
    "In de line hieronder word de kraanvogel:\"Agnetha\", geexporteerd naar het bestandsformaat JSON. <br>\n",
    "Het dataframe waar we de functie: \"to_json()\" op gaan uitvoeren heet: \"Agnetha\".<br>\n",
    "De waarde die we meegeven in de functie is als volgt:\n",
    "- De bestandslocatie: \"../../Datasets/JSON/\", de bestandsnaam = \"Kraanvogel-Agnetha.json\" <br>"
   ]
  },
  {
   "cell_type": "code",
   "execution_count": null,
   "metadata": {},
   "outputs": [],
   "source": [
    "Agnetha.to_json('../../Datasets/JSON/Kraanvogel-Agnetha.json',orient = 'records')"
   ]
  },
  {
   "cell_type": "markdown",
   "metadata": {},
   "source": [
    "#### Opdracht 4 : Exporteer het dataframe van de kraanvogel: \"Frida\", naar het JSON bestandsformaat."
   ]
  },
  {
   "cell_type": "code",
   "execution_count": null,
   "metadata": {},
   "outputs": [],
   "source": [
    "#TODO"
   ]
  },
  {
   "cell_type": "markdown",
   "metadata": {},
   "source": [
    "In de line hieronder word de kraanvogel:\"Cajsa\", gexporteerd naar het bestandsformaat JSON.<BR>\n",
    "Het dataframe waar we de functie: \"to_json()\" op gaan uitvoeren heet: \"Cajsa\". <br>\n",
    "De waarde die we meegeven in de functie is als volgt:\n",
    "- De bestandslocatie: \"../../Datasets/JSON/\", de bestandsnaam = \"Kraanvogel-Cajsa.json\" <br>"
   ]
  },
  {
   "cell_type": "code",
   "execution_count": null,
   "metadata": {},
   "outputs": [],
   "source": [
    "Cajsa.to_json('../../Datasets/JSON/Kraanvogel-Cajsa.json',orient = 'records')"
   ]
  },
  {
   "cell_type": "markdown",
   "metadata": {},
   "source": [
    "---"
   ]
  },
  {
   "cell_type": "markdown",
   "metadata": {},
   "source": [
    "---"
   ]
  },
  {
   "cell_type": "markdown",
   "metadata": {},
   "source": [
    "# Einde opdracht 1 t/m 4 "
   ]
  },
  {
   "cell_type": "markdown",
   "metadata": {},
   "source": [
    "---"
   ]
  },
  {
   "cell_type": "markdown",
   "metadata": {},
   "source": [
    "---"
   ]
  },
  {
   "cell_type": "markdown",
   "metadata": {},
   "source": [
    "---\n",
    "# GPS-route datasets"
   ]
  },
  {
   "cell_type": "markdown",
   "metadata": {},
   "source": [
    "---\n",
    "### Generieke functie voor het creeren van een dataframe\n",
    "#### NOTE: Hier hoef je verder niets mee te doen, indien je geinteresseerd ben in de werking van deze functie kan je het vragen\n",
    "---"
   ]
  },
  {
   "cell_type": "code",
   "execution_count": null,
   "metadata": {},
   "outputs": [],
   "source": [
    "def create_dataframe(df):\n",
    "    data = df.tracks[0].segments[0].points\n",
    "    df = pd.DataFrame(columns=['lon', 'lat', 'alt', 'time'])\n",
    "\n",
    "    for point in data:\n",
    "        df = df.append({'lon' : point.longitude,\n",
    "                        'lat' : point.latitude, \n",
    "                        'alt' : point.elevation,\n",
    "                        'time': point.time}, ignore_index=True)\n",
    "    return df"
   ]
  },
  {
   "cell_type": "markdown",
   "metadata": {},
   "source": [
    "---\n",
    "### Importeren van de GPS route datasets\n",
    "\n",
    "\n",
    "De GPS route datasets hebben het bestandsformaat GPX en zijn te vinden in de folder '../../Datasets/GPX/'. \n",
    "Om een GPX dataset in te lezen, in een Pandas dataframe, gebruiken we een Python Library genaamd:\"gpxpy\". \n",
    "Deze library is gemaakt voor het verwerken van data met het bestandsformaat: \"GPX\".\n",
    "\n",
    "Als waarden geven we de bestandslocatie van het gewenste GPX bestand mee.<br>\n",
    "Het bovengenoemde doen we per GPSroute dataset. We wijzen de ingelezen resulaten toe aan een bijpassend variable.\n",
    "\n",
    "---"
   ]
  },
  {
   "cell_type": "code",
   "execution_count": null,
   "metadata": {},
   "outputs": [],
   "source": [
    "Biesbosch = create_dataframe(gpxpy.parse(open('../../Datasets/GPX/Biesbosch.gpx', 'r')))\n",
    "Zeeland_Camper_1 = create_dataframe(gpxpy.parse(open('../../Datasets/GPX/Zeeland_Camper_1.gpx', 'r')))\n",
    "Zeeland_Camper_2 = create_dataframe(gpxpy.parse(open('../../Datasets/GPX/Zeeland_Camper_2.gpx', 'r')))"
   ]
  },
  {
   "cell_type": "markdown",
   "metadata": {},
   "source": [
    "\n",
    "---\n",
    "### Basis analyse van de GPS-route datasets\n",
    "\n",
    "Hieronder volgt de basis analyse van de GPS-route datasets. Aan de hand van deze analyse kunnen we uiteindelijk een datamodel gaan maken in deel 2 van deze workshop.  \n",
    "\n",
    "Gedurende deze analyse zullen de volgende dingen duidelijk worden: \n",
    "- Hoeveel signalen bevat elke GPS-route?\n",
    "- Hoeveel welke datakolommen bevat elke GPS-route?\n",
    "- Wat betekenen deze datakolommen?\n",
    "---\n",
    "\n",
    "Eerst willen we de hoeveelheid signalen per GPS-route weten. De hoeveelheid signalen is gelijk aan de hoeveelheid datarows in de dataset, van de desbetreffende GPS-route. Om achter de hoeveelheid datarows in een dataframe te komen, gebruiken we \".shape\", op het dataframe waar we de hoeveelheid signalen van willen weten. Het gebruik van .shape print de dimensionaliteit van een dataframe. \n",
    "\n",
    "De dimensionaliteit van een dataframe bestaat uit:\n",
    "- De hoeveelheid datarows op index 0 \n",
    "- De hoeveelheid kolommen op index 1\n",
    "\n",
    "De line hieronder print de hoeveelheid singalen van de GPS route: \"Biesbosch\". Zoals bovengenoemd gebruiken we \".shape\" op het dataframe:\"Biesbosch\". <br>"
   ]
  },
  {
   "cell_type": "code",
   "execution_count": null,
   "metadata": {},
   "outputs": [],
   "source": [
    "Biesbosch.shape[0]"
   ]
  },
  {
   "cell_type": "markdown",
   "metadata": {},
   "source": [
    "#### Opdracht 5 : Vind de hoeveelheid signalen van de GPS-route: \"Zeeland_Camper_1\""
   ]
  },
  {
   "cell_type": "code",
   "execution_count": null,
   "metadata": {},
   "outputs": [],
   "source": [
    "#TODO"
   ]
  },
  {
   "cell_type": "markdown",
   "metadata": {},
   "source": [
    "De line hieronder print de hoeveelheid singalen van de GPS-route: \"Zeeland_Camper_2\". Zoals boven gebruiken we weer \".shape\" op het dataframe:\"Zeeland_Camper_2\". <br>"
   ]
  },
  {
   "cell_type": "code",
   "execution_count": null,
   "metadata": {},
   "outputs": [],
   "source": [
    "Zeeland_Camper_2.shape[0]"
   ]
  },
  {
   "cell_type": "markdown",
   "metadata": {},
   "source": [
    "---\n",
    "Nu willen, per GPS-route dataset, de kolom-namen en hun datatypes weten. <br>\n",
    "De line hieronder print de kolomnamen en hun datatypes van de GPS-route: \"Biesbosch\""
   ]
  },
  {
   "cell_type": "code",
   "execution_count": null,
   "metadata": {},
   "outputs": [],
   "source": [
    "Biesbosch.dtypes"
   ]
  },
  {
   "cell_type": "markdown",
   "metadata": {},
   "source": [
    "#### Opdracht 6 : Vind de kolomnamen en hun datatype van de GPS-route: \"Zeeland_Camper_1\""
   ]
  },
  {
   "cell_type": "code",
   "execution_count": null,
   "metadata": {},
   "outputs": [],
   "source": [
    "#TODO"
   ]
  },
  {
   "cell_type": "markdown",
   "metadata": {},
   "source": [
    "De line hieronder print de kolomnamen en hun datatypes van de GPS-route: \"Zeeland_Camper_2\""
   ]
  },
  {
   "cell_type": "code",
   "execution_count": null,
   "metadata": {},
   "outputs": [],
   "source": [
    "Zeeland_Camper_2.dtypes"
   ]
  },
  {
   "cell_type": "markdown",
   "metadata": {},
   "source": [
    "---\n",
    "Nu gaan we ee  simpele visualisatie creeren. Hiervoor gaan we de Python libraries MatplotLib en Cartopy gebruiken."
   ]
  },
  {
   "cell_type": "code",
   "execution_count": null,
   "metadata": {},
   "outputs": [],
   "source": [
    "'''\n",
    "Eerst creeren we een nieuwe Cartopy map genaamd:\"cartopyMapRoutes\".\n",
    "Dit doen we op dezelde manier als in opdracht 3. Indien je bent vergeten wat de code, die hieronder volgt, doet \n",
    "kan je altijd terug kijken naar opdracht 3.\n",
    "'''\n",
    "plt.figure(figsize = (20, 12))\n",
    "cartopyMapRoutes = plt.axes(projection=ccrs.PlateCarree())\n",
    "cartopyMapRoutes.coastlines(resolution='10m')\n",
    "cartopyMapRoutes.add_feature(cartopy.feature.LAND.with_scale('10m'), edgecolor='black', facecolor = \"white\")\n",
    "cartopyMapRoutes.add_feature(cfeature.LAKES.with_scale('10m'), edgecolor = 'black')\n",
    "cartopyMapRoutes.add_feature(cfeature.RIVERS.with_scale('10m')) \n",
    "cartopyMapRoutes.add_feature(cfeature.BORDERS.with_scale('10m'))\n",
    "\n",
    "\n",
    "'''\n",
    "Nu willen we de GPS routes plotten op de nieuwe Cartopy map.\n",
    "Dit doe we weer met een scatter plot.\n",
    "\n",
    "In de line hieronder voegen we de GPS route: \"Biesbosch\",toe aan de Cartopy map.\n",
    "1) Eerst geven we aan dat we een plot willen weergeven op de cartopy map genaamd: \"cartopyMapRoutes\".\n",
    "2) Daarna geven we het type plot aan genaamd: \"scatter\".\n",
    "3) Daarna geven we aan welke kolom de longitude coordinaten van de GPS route bevat. Dit doen we door eerst\n",
    "   aan te geven van welk dataframe we deze kolom willen selecteren, en daarna de naam van de kolom mee te geven.\n",
    "   In dit geval is het dataframe: \"Biesbosch\" en de naam van de kolom: \"lon\".\n",
    "6) Daarna doen we hetzelfde voor de latitude coordinaten.\n",
    "7) Daarna geven we aan welke kleur de datapunten moeten krijgen, rood in dit geval. \n",
    "8) Daarna geven we aan hoe groot de datapunten moeten worden, 1 in dit geval.\n",
    "'''\n",
    "cartopyMapRoutes.scatter(Biesbosch['lon'],Biesbosch['lat'],color=\"red\", s = 1)\n",
    "\n",
    "\n",
    "# # # # # # # # # # # # # # # # # # # # # # # # # # # # # # # # # # # # # # # # # # # # #\n",
    "#                                                                                       #\n",
    "#      OPDRACHT 7: Voeg de GPS-route:\"Zeeland_Camper_1\", toe aan de Cartopy Map.        #\n",
    "#                                                                                       #\n",
    "# # # # # # # # # # # # # # # # # # # # # # # # # # # # # # # # # # # # # # # # # # # # # \n",
    "\n",
    "#TODO\n",
    "\n",
    "'''\n",
    "Hier voegen we de GPS route: \"Zeeland_Camper_2\",toe aan de Cartopy map.\n",
    "1) In dit geval is het dataframe: \"Zeeland_Camper_2\" en de naam van de kolom: \"lon\".\n",
    "2) Daarna doen we hetzelfde voor de latitude coordinaten.\n",
    "3) Daarna geven we aan welke kleur de datapunten moeten krijgen, groen in dit geval. \n",
    "4) Daarna geven we aan hoe groot de datapunten moeten worden, 1 in dit geval.\n",
    "'''\n",
    "cartopyMapRoutes.scatter(Zeeland_Camper_2['lon'],Zeeland_Camper_2['lat'],color=\"green\", s = 1)"
   ]
  },
  {
   "cell_type": "markdown",
   "metadata": {},
   "source": [
    "---\n",
    "Nu we weten hoe de uiteindelijke GPS-routes eruit gaan zien, kunnen we de dataframes exporteren naar het JSON bestandsformaat. <br>\n",
    "Om een dataframe te exporteren naar JSON, gebruiken we opnieuw de Pandas functie: \"to_json()\". <br>\n",
    "Eerst moeten we aangeven welk dataframe we willen exporteren naar JSON. <br>\n",
    "Daarna voeren de functie: \"to_json()\"  uit op het desbetreffende dataframe. <br>\n",
    "\n",
    "In die functie moeten we meegeven waar het bestand word opgeslagen en wat voor naam het bestand gaat hebben. <br>"
   ]
  },
  {
   "cell_type": "markdown",
   "metadata": {},
   "source": [
    "In de line hieronder wordt de GPS route:\"Biesbosch\", geexporteerd naar het bestandsformaat JSON. <br>\n",
    "Het dataframe waar we de functie: \"to_json()\" op gaan uitvoeren heet: \"Biesbosch\".<br>\n",
    "De waarde die we meegeven in de functie is als volgt:\n",
    "- De bestandslocatie: \"../../Datasets/JSON/\", de bestandsnaam = \"Route-Biesbosch.json\" <br>"
   ]
  },
  {
   "cell_type": "code",
   "execution_count": null,
   "metadata": {},
   "outputs": [],
   "source": [
    "Biesbosch.to_json('../../Datasets/JSON/Route-Biesbosch.json',orient = 'records')"
   ]
  },
  {
   "cell_type": "markdown",
   "metadata": {},
   "source": [
    "#### Opdracht 8 : Exporteer het dataframe van de GPS-route : \"Zeeland_Camper_1\", naar het JSON bestandsformaat."
   ]
  },
  {
   "cell_type": "code",
   "execution_count": null,
   "metadata": {},
   "outputs": [],
   "source": [
    "#TODO"
   ]
  },
  {
   "cell_type": "markdown",
   "metadata": {},
   "source": [
    "In de line hieronder wordt de GPS-route:\"Zeeland_Camper_2\", geexporteerd naar het bestandsformaat JSON. <br>\n",
    "\n",
    "Het dataframe waar we de functie: \"to_json()\" op gaan uitvoeren heet: \"Zeeland_Camper_2\".\n",
    "De waarde die we meegeven in de functie is als volgt:\n",
    "- De bestandslocatie: \"../../Datasets/JSON/\", de bestandsnaam = \"Route-Zeeland_Camper_2.json\" <br>"
   ]
  },
  {
   "cell_type": "code",
   "execution_count": null,
   "metadata": {},
   "outputs": [],
   "source": [
    "Zeeland_Camper_2.to_json('../../Datasets/JSON/Route-Zeeland_Camper_2.json',orient = 'records')"
   ]
  }
 ],
 "metadata": {
  "kernelspec": {
   "display_name": "Python 3",
   "language": "python",
   "name": "python3"
  },
  "language_info": {
   "codemirror_mode": {
    "name": "ipython",
    "version": 3
   },
   "file_extension": ".py",
   "mimetype": "text/x-python",
   "name": "python",
   "nbconvert_exporter": "python",
   "pygments_lexer": "ipython3",
   "version": "3.6.9"
  }
 },
 "nbformat": 4,
 "nbformat_minor": 2
}
