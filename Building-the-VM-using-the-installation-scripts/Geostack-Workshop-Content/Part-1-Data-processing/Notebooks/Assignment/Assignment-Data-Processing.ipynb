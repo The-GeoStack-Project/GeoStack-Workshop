{
 "cells": [
  {
   "cell_type": "markdown",
   "metadata": {},
   "source": [
    "# Workshop Part 1: Data processing\n",
    "---\n",
    "## Assignments notebook\n",
    "---\n",
    "\n",
    "## Contents of the notebook\n",
    "- Crane datasets\n",
    "    - Import the Crane datasets\n",
    "    - Basis analysis of the Crane datasets\n",
    "    - Visualize the Crane datasets\n",
    "    - Export the Crane datasets to JSON\n",
    "- GPSroute datasets\n",
    "    - Import the GPS-route datasets\n",
    "    - Basis analysis of the  GPS-route datasets\n",
    "    - Visualize the GPS-route datasets\n",
    "    - Export the GPS-route datasets to JSON\n",
    "\n",
    "## Assignments notebook\n",
    "Assignments related to the Crane datasets:\n",
    "\n",
    "1. Find the amount of transmissions related to the Crane: \"Frida\".\n",
    "2. Find the names of the columns in the Crane dataset: \"Frida\".\n",
    "3. Visualize the Flightpath of the Crane: \"Frida\", using MatplotLib and Cartopy.\n",
    "4. Export the dataframe related to the Crane: \"Frida\" to the JSON file format.\n",
    "\n",
    "Assignments related to the GPS Route datasets:\n",
    "\n",
    "5. Find the amount of signals related to the GPS-route: \"Zeeland_Car_1\".\n",
    "6. Find the names of the columns in the GPS-route dataset: \"Zeeland_Car_1\".\n",
    "7. Visualize the GPS-Route: \"Zeeland_Car_1\", using MatplotLib en Cartopy.\n",
    "8. Export the dataframe related to the GPS-route: \"Zeeland_Car_1\" to the JSON file format\n",
    "\n",
    "#### NOTE: To run a cell, you have to select the cell and press the Run button at the top of the screen. <br>\n",
    "\n",
    "#### NOTE 2: For convenience, you can type the first letter of a variable and press TAB to automatically add the     variable \n",
    "    \n"
   ]
  },
  {
   "cell_type": "markdown",
   "metadata": {},
   "source": [
    "### Importing the required modules.\n",
    "---"
   ]
  },
  {
   "cell_type": "code",
   "execution_count": null,
   "metadata": {},
   "outputs": [],
   "source": [
    "import pandas as pd\n",
    "\n",
    "import gpxpy\n",
    "\n",
    "import matplotlib.pyplot as plt\n",
    "\n",
    "import cartopy\n",
    "\n",
    "import cartopy.crs as ccrs \n",
    "\n",
    "import cartopy.feature as cfeature "
   ]
  },
  {
   "cell_type": "markdown",
   "metadata": {},
   "source": [
    "# Crane datasets"
   ]
  },
  {
   "cell_type": "markdown",
   "metadata": {},
   "source": [
    "---\n",
    "### Importing the Crane Datasets\n",
    "\n",
    "\n",
    "The Crane datasets come in the fileformat: \"CSV\" and can be found in the folder: '../../Datasets/CSV/'.\n",
    "To read a datasets with the fileformat CSV, in a Pandas dataframe, we use the built-in Pandas function: \"read_csv()\".\n",
    "\n",
    "As parameter we pass the file location of the CSV file we want to read. We do this for each Crane dataset in the folder: '../../Datasets/CSV/'. We assign the dataframe to a fitting variable. This variable represents the name of the Crane related to the dataset.\n",
    "\n",
    "---"
   ]
  },
  {
   "cell_type": "code",
   "execution_count": null,
   "metadata": {},
   "outputs": [],
   "source": [
    "Agnetha = pd.read_csv('../../Datasets/CSV/20181003_Dataset_SV_GPS_Crane_9407_STAW_Crane_RRW-BuGBk_Agnetha.csv')\n",
    "Frida = pd.read_csv('../../Datasets/CSV/20181003_Dataset_SV_GPS_Crane_9381_STAW_Crane_RRW-BuGBk_Frida.csv')\n",
    "Cajsa = pd.read_csv('../../Datasets/CSV/20181003_Dataset_SV_GPS_Crane_9472_STAW_Crane_RRW-BuGR_Cajsa.csv')"
   ]
  },
  {
   "cell_type": "markdown",
   "metadata": {},
   "source": [
    "\n",
    "---\n",
    "### Basis analyses of the Crane datasets.\n",
    "\n",
    "Below we are going to perform a basic analysis on each of the Crane datasets. After performing the analysis we can answer the following questions:\n",
    "- How big is each dataset (How much transmissions)?\n",
    "- How much columns does each dataset have?\n",
    "- Which columns does each dataset have?\n",
    "- What do these columns represent?\n",
    "\n",
    "---\n",
    "First we would like to know the amount of transmissions belonging to each Crane. The amount of transmissions is equal to the amount of datarows in the dataframes, representing the Cranes. \n",
    "\n",
    "To find out how much datarows a dataframe contains, we use the built-in Pandas function: \".shape\" on the dataframe in question. This function prints the dimensionality of a dataframe. \n",
    "\n",
    "The dimensionality consists of:\n",
    "- The amount of datarows, on index 0 (.shape[0])\n",
    "- The amount of columns, on index 1 (.shape[1])\n",
    "\n",
    "The line below prints the amount of tranmissions belonging to the Crane: \"Agnetha\"."
   ]
  },
  {
   "cell_type": "code",
   "execution_count": null,
   "metadata": {},
   "outputs": [],
   "source": [
    "Agnetha.shape[0]"
   ]
  },
  {
   "cell_type": "markdown",
   "metadata": {},
   "source": [
    "#### Assignment 1: Find the amount of transmissions related to the Crane: \"Frida\"."
   ]
  },
  {
   "cell_type": "code",
   "execution_count": null,
   "metadata": {},
   "outputs": [],
   "source": [
    "#TODO"
   ]
  },
  {
   "cell_type": "markdown",
   "metadata": {},
   "source": [
    "The line below prints the amount of tranmissions belonging to the Crane: \"Casja\"."
   ]
  },
  {
   "cell_type": "code",
   "execution_count": null,
   "metadata": {},
   "outputs": [],
   "source": [
    "Cajsa.shape[0]"
   ]
  },
  {
   "cell_type": "markdown",
   "metadata": {},
   "source": [
    "---"
   ]
  },
  {
   "cell_type": "markdown",
   "metadata": {},
   "source": [
    "Now we want to find out the amount of columns, their names and their datatypes of each Crane dataset. <br>\n",
    "The line below prints the column names and their datatypes belonging to the Crane:\"Agnetha\" "
   ]
  },
  {
   "cell_type": "code",
   "execution_count": null,
   "metadata": {},
   "outputs": [],
   "source": [
    "Agnetha.dtypes"
   ]
  },
  {
   "cell_type": "markdown",
   "metadata": {},
   "source": [
    "#### Assignment 2 : Find the names of the columns in the Crane dataset: \"Frida\"."
   ]
  },
  {
   "cell_type": "code",
   "execution_count": null,
   "metadata": {},
   "outputs": [],
   "source": [
    "#TODO"
   ]
  },
  {
   "cell_type": "markdown",
   "metadata": {},
   "source": [
    "The line below prints the column names and their datatypes belonging to the Crane: \"Cajsa\""
   ]
  },
  {
   "cell_type": "code",
   "execution_count": null,
   "metadata": {},
   "outputs": [],
   "source": [
    "Cajsa.dtypes"
   ]
  },
  {
   "cell_type": "markdown",
   "metadata": {},
   "source": [
    "---"
   ]
  },
  {
   "cell_type": "markdown",
   "metadata": {},
   "source": [
    "Now we want to create a simple visualization of the Crane Datasets.<br>\n",
    "For this we are going to use the Python libraries MathPlotLib and CartopyNOTE: The first time you run the cell below, some files will be downloaded. Don't worry about this and please be patient."
   ]
  },
  {
   "cell_type": "code",
   "execution_count": null,
   "metadata": {},
   "outputs": [],
   "source": [
    "'''\n",
    "Below we create a new plot using MathPlotLib. \n",
    "We pass the a size of the figure as parameter. \n",
    "'''\n",
    "plt.figure(figsize = (20, 12))\n",
    "\n",
    "'''\n",
    "Below we create a new Catopy map. \n",
    "\n",
    "We pass the projection of the Cartopy map as parameter. \n",
    "The projection we are going to use is called: \"PlatteCarree\". The crs stands for: \"Coordinate Reference system\".\n",
    "The type of CRS used in the Cartopy map defines the way the map will be shown. PlatteCarre uses\n",
    "equirectangular projection (North Latitude and East Longitude). \n",
    "\n",
    "For more info related to this type of projection you should visit the URL:\n",
    "https://en.wikipedia.org/wiki/Equirectangular_projection\n",
    "\n",
    "We assign the instance of the plot to a variable called: \"cartopyMapCranes\".\n",
    "'''\n",
    "cartopyMapCranes = plt.axes(projection=ccrs.PlateCarree())\n",
    "\n",
    "'''\n",
    "Below we add the coastal lines to the cartopy map. We pass the resolution: \"10m\" as parameter. This value defines\n",
    "the maximum deviation the coastal line can have. The higher the value, the higher the devation of the correct\n",
    "location of the lines.\n",
    "'''\n",
    "cartopyMapCranes.coastlines(resolution='10m')\n",
    "\n",
    "'''\n",
    "Below we add the landsurface to the Cartopy map.\n",
    "We give the landsurface (face) the color white. \n",
    "We give the edges of the landsurface (edge) te color black.\n",
    "'''\n",
    "cartopyMapCranes.add_feature(cartopy.feature.LAND.with_scale('10m'), edgecolor='black', facecolor = \"white\")\n",
    "'''\n",
    "Below we add the lakes to the cartopy map. \n",
    "We give the edges of the lake the color black.\n",
    "'''\n",
    "cartopyMapCranes.add_feature(cfeature.LAKES.with_scale('10m'), edgecolor = 'black')\n",
    "\n",
    "'''\n",
    "Below we add the sea surface to the Cartopy Map\n",
    "'''\n",
    "cartopyMapCranes.add_feature(cfeature.OCEAN) \n",
    "\n",
    "'''\n",
    "Below we add the rivers to the Cartopy Map\n",
    "'''\n",
    "cartopyMapCranes.add_feature(cfeature.RIVERS.with_scale('10m')) \n",
    "\n",
    "'''\n",
    "Below we add the borders to the Cartopy Map\n",
    "'''\n",
    "cartopyMapCranes.add_feature(cfeature.BORDERS.with_scale('10m'))\n",
    "\n",
    "'''\n",
    "Now we want to create a dataplot which shows the flightpaths of the Cranes. We plot this data on the CartopyMap,\n",
    "which we created above, using MathPlotLib. The plot we are going to create is called a scatter plot. This is one \n",
    "of the many types of MathPlotLib plots.  \n",
    "\n",
    "For more information regarding the types of MathPlotLib plots, visit the following URL:\n",
    "https://matplotlib.org/3.1.1/tutorials/introductory/sample_plots.html\n",
    "\n",
    "To plot a dataset we first have to declare on which instance of a CartopyMap we want to plot the data.\n",
    "Next we have to declare the type of plot which we want to create.\n",
    "Finally we need to pass values to the instance of the plot. These values are as follows:\n",
    "1) The Longitude coordinates (The name of the column that contains this value).\n",
    "2) The Latitude coordinates (The name of the column that contains this value).\n",
    "3) The color which the datapoints are going to have.\n",
    "4) This size which the datapoints are going to have (The radius).\n",
    "\n",
    "The line of code below is used to plot the Flightpath of the Crane:\"Agnetha\" on the CartopyMap.\n",
    "The following applies to this line of code:\n",
    "1) First we declare the instance of the cartopymap which is the variable: \"cartopyMapCranes\".\n",
    "2) Next we want to declare the type of MathPlotLib plot that is going to be created, which is a scatter plot.\n",
    "3) Next we want to declare the Dataframe and name of the column representing the Longitude Coordinates of the \n",
    "   Crane. The dataframe, containing the data of the Crane: \"Agnetha\", is called: \"Agnetha\". \n",
    "   The Longitude column is called: \"location-long\". \n",
    "4) Then we want to do the same for the Latitude Coordinates.\n",
    "5) Next we want to declare the color of the datapoints, which is red in this case. \n",
    "6) Finally we want to set the size of the datapoints, which is 1 in this case.\n",
    "'''\n",
    "cartopyMapCranes.scatter(Agnetha['location-long'], Agnetha['location-lat'],color=\"red\", s = 1)\n",
    "\n",
    "\n",
    "# # # # # # # # # # # # # # # # # # # # # # # # # # # # # # # # # # # # # # # # # # # # #\n",
    "#                                                                                       #\n",
    "#    ASSIGNMENT 3: Visualize the Flightpath of the Crane: \"Frida\" on the Cartopy Map    #\n",
    "#                                                                                       #\n",
    "# # # # # # # # # # # # # # # # # # # # # # # # # # # # # # # # # # # # # # # # # # # # # \n",
    "\n",
    "#TODO\n",
    "\n",
    "'''\n",
    "\n",
    "The line of code below is used to plot the Flightpath of the Crane:\"Cajsa\" on the CartopyMap.\n",
    "The following applies to this line of code:\n",
    "1) First we declare the instance of the cartopymap which is the variable: \"cartopyMapCranes\".\n",
    "2) Next we want to declare the type of MathPlotLib plot that is going to be created, which is a scatter plot.\n",
    "3) Next we want to declare the Dataframe and name of the column representing the Longitude Coordinates of the \n",
    "   Crane. The dataframe, containing the data of the Crane: \"Cajsa\", is called: \"Cajsa\". \n",
    "   The Longitude column is called: \"location-long\". \n",
    "4) Then we want to do the same for the Latitude Coordinates.\n",
    "5) Next we want to declare the color of the datapoints, which is green in this case. \n",
    "6) Finally we want to set the size of the datapoints, which is 1 in this case.\n",
    "'''\n",
    "cartopyMapCranes.scatter(Cajsa['location-long'], Cajsa['location-lat'],color=\"green\", s = 1)"
   ]
  },
  {
   "cell_type": "markdown",
   "metadata": {},
   "source": [
    "---\n",
    "Now that we know what the Flightpaths of the Cranes look like, we want to export the Dataframe to the JSON \n",
    "file format. \n",
    "\n",
    "To export a dataframe to JSON, we use the built-in Pandas function: \"to_json()\" on the dataframe.<br>\n",
    "First you need to declare the dataframe that you want to export to JSON. <br>\n",
    "Then you call the function: \".to_json()\" on the dataframe.<br>\n",
    "\n",
    "In this function we need to pass the location on which we want to save the JSON file and the orientation in which\n",
    "the records need to be written to the file. \n",
    " <br>"
   ]
  },
  {
   "cell_type": "markdown",
   "metadata": {},
   "source": [
    "---\n",
    "The line below exports the dataframe of the Crane: \"Agnetha\" to the file format JSON. <br>\n",
    "The dataframe on which we are going to call the function: \".to_json()\".<br>\n",
    "De values wich we are going to pass in this function are as follows: \n",
    "- The file location in which we are going to save the file is: ../../Datasets/JSON/\n",
    "- The name of the file is going to be: Crane-Agnetha.json\n",
    "- The orientation in which the records are going to written to the file is: records (which makes the data human readable)"
   ]
  },
  {
   "cell_type": "code",
   "execution_count": null,
   "metadata": {},
   "outputs": [],
   "source": [
    "Agnetha.to_json('../../Datasets/JSON/Crane-Agnetha.json',orient = 'records')"
   ]
  },
  {
   "cell_type": "markdown",
   "metadata": {},
   "source": [
    "#### Assignment 4: Export the dataframe related to the Crane: \"Frida\" to the JSON file format."
   ]
  },
  {
   "cell_type": "code",
   "execution_count": null,
   "metadata": {},
   "outputs": [],
   "source": [
    "#TODO"
   ]
  },
  {
   "cell_type": "markdown",
   "metadata": {},
   "source": [
    "---\n",
    "The line below exports the dataframe of the Crane: \"Cajsa\" to the file format JSON. <br>\n",
    "The dataframe on which we are going to call the function: \".to_json()\".<br>\n",
    "De values wich we are going to pass in this function are as follows: \n",
    "- The file location in which we are going to save the file is: ../../Datasets/JSON/\n",
    "- The name of the file is going to be: Crane-Cajsa.json\n",
    "- The orientation in which the records are going to written to the file is: records (which makes the data human readable)"
   ]
  },
  {
   "cell_type": "code",
   "execution_count": null,
   "metadata": {},
   "outputs": [],
   "source": [
    "Cajsa.to_json('../../Datasets/JSON/Crane-Cajsa.json',orient = 'records')"
   ]
  },
  {
   "cell_type": "markdown",
   "metadata": {},
   "source": [
    "---"
   ]
  },
  {
   "cell_type": "markdown",
   "metadata": {},
   "source": [
    "---"
   ]
  },
  {
   "cell_type": "markdown",
   "metadata": {},
   "source": [
    "## End Assignment 1 to 4\n",
    "### you should go back to the presentation for information related to GPX datasets."
   ]
  },
  {
   "cell_type": "markdown",
   "metadata": {},
   "source": [
    "---"
   ]
  },
  {
   "cell_type": "markdown",
   "metadata": {},
   "source": [
    "---"
   ]
  },
  {
   "cell_type": "markdown",
   "metadata": {},
   "source": [
    "---\n",
    "# GPS-route datasets"
   ]
  },
  {
   "cell_type": "markdown",
   "metadata": {},
   "source": [
    "---\n",
    "### Below a Generic function is defined to read GPX files in a dataframe. \n",
    "#### NOTE: The way this is done is described in the complete GeoStack Course. \n",
    "---"
   ]
  },
  {
   "cell_type": "code",
   "execution_count": null,
   "metadata": {},
   "outputs": [],
   "source": [
    "def create_dataframe(df):\n",
    "    data = df.tracks[0].segments[0].points\n",
    "    df = pd.DataFrame(columns=['lon', 'lat', 'alt', 'time'])\n",
    "\n",
    "    for point in data:\n",
    "        df = df.append({'lon' : point.longitude,\n",
    "                        'lat' : point.latitude, \n",
    "                        'alt' : point.elevation,\n",
    "                        'time': point.time}, ignore_index=True)\n",
    "    return df"
   ]
  },
  {
   "cell_type": "markdown",
   "metadata": {},
   "source": [
    "---\n",
    "### Importing the GPS-route datasets\n",
    "\n",
    "The GPS-route datasets come in the file format GPX and can be found in the folder: '../../Datasets/GPX/'. \n",
    "To read a GPX dataset in a Pandas dataframe, the Python library: \"gpxpy\" is used. This library is created for the processing of GPX data. For more info related to gpxpy, visit the URL: <br>\n",
    "\n",
    "https://github.com/tkrajina/gpxpy\n",
    "\n",
    "To read the GPX dataset we us the syntax: gpxpy.parse(). As parameter we pass the file location of the GPX file we want to read. We do this for each GPX dataset and assign the result to a fitting variable. \n",
    "\n",
    "---"
   ]
  },
  {
   "cell_type": "code",
   "execution_count": null,
   "metadata": {},
   "outputs": [],
   "source": [
    "Biesbosch = create_dataframe(gpxpy.parse(open('../../Datasets/GPX/Biesbosch.gpx', 'r')))\n",
    "Zeeland_Car_1 = create_dataframe(gpxpy.parse(open('../../Datasets/GPX/Zeeland_Car_1.gpx', 'r')))\n",
    "Zeeland_Car_2 = create_dataframe(gpxpy.parse(open('../../Datasets/GPX/Zeeland_Car_2.gpx', 'r')))"
   ]
  },
  {
   "cell_type": "markdown",
   "metadata": {},
   "source": [
    "\n",
    "---\n",
    "### Basic analysis of the GPS-route datasets\n",
    "\n",
    "Below we perform a basic analysis on the GPS-route datasets. \n",
    "\n",
    "\n",
    "\n",
    "Below we are going to perform a basic analysis on each of the Crane datasets. After performing the analysis we can answer the following questions:\n",
    "- How big is each dataset (How much Signals in each Route)?\n",
    "- How much columns does each dataset have?\n",
    "- Which columns does each dataset have?\n",
    "- What do these columns represent?\n",
    "\n",
    "In part 2 of the workshop we are going to create data models using the answers to this question.\n",
    "\n",
    "---\n",
    "The line below prints the amount of Signals belonging to the GPS-Route: \"Biesbosch\". As mentioned above, we call the function: \".shape\" on the dataframe representing the Biesbosch route. "
   ]
  },
  {
   "cell_type": "code",
   "execution_count": null,
   "metadata": {},
   "outputs": [],
   "source": [
    "Biesbosch.shape[0]"
   ]
  },
  {
   "cell_type": "markdown",
   "metadata": {},
   "source": [
    "#### Assignment 5 : Find the amount of signals related to the GPS-route: \"Zeeland_Car_1\""
   ]
  },
  {
   "cell_type": "code",
   "execution_count": null,
   "metadata": {},
   "outputs": [],
   "source": [
    "#TODO"
   ]
  },
  {
   "cell_type": "markdown",
   "metadata": {},
   "source": [
    "The line below prints the amount of Signals belonging to the GPS-Route: \"Zeeland_Car_2\". As mentioned above, we call the function: \".shape\" on the dataframe representing the Zeeland Car 2 route. "
   ]
  },
  {
   "cell_type": "code",
   "execution_count": null,
   "metadata": {},
   "outputs": [],
   "source": [
    "Zeeland_Car_2.shape[0]"
   ]
  },
  {
   "cell_type": "markdown",
   "metadata": {},
   "source": [
    "---\n",
    "Now we want to find out the amount of columns, their names and their datatypes of each GPS-Route. <br>\n",
    "\n",
    "---\n",
    "The line below prints the column names and their datatypes belonging to the Route:\"Biesbosch\" "
   ]
  },
  {
   "cell_type": "code",
   "execution_count": null,
   "metadata": {},
   "outputs": [],
   "source": [
    "Biesbosch.dtypes"
   ]
  },
  {
   "cell_type": "markdown",
   "metadata": {},
   "source": [
    "#### Assignment 6 : Find the names of the columns in the GPS-route dataset: \"Zeeland_Car_1\"."
   ]
  },
  {
   "cell_type": "code",
   "execution_count": null,
   "metadata": {},
   "outputs": [],
   "source": [
    "#TODO"
   ]
  },
  {
   "cell_type": "markdown",
   "metadata": {},
   "source": [
    "The line below prints the column names and their datatypes belonging to the Route:\"Zeeland_Car_2\""
   ]
  },
  {
   "cell_type": "code",
   "execution_count": null,
   "metadata": {},
   "outputs": [],
   "source": [
    "Zeeland_Car_2.dtypes"
   ]
  },
  {
   "cell_type": "markdown",
   "metadata": {},
   "source": [
    "---\n",
    "Now we want to create a simple visualization of the GPS-Route Datasets.<br>\n",
    "For this we are going to use the Python libraries MathPlotLib and Cartopy"
   ]
  },
  {
   "cell_type": "code",
   "execution_count": null,
   "metadata": {},
   "outputs": [],
   "source": [
    "'''\n",
    "First we create a new Cartopy map called:\"cartopyMapRoutes\".\n",
    "In case you forgot what the code below does, you can always go back to assigment 3.\n",
    "'''\n",
    "plt.figure(figsize = (20, 12))\n",
    "cartopyMapRoutes = plt.axes(projection=ccrs.PlateCarree())\n",
    "cartopyMapRoutes.coastlines(resolution='10m')\n",
    "cartopyMapRoutes.add_feature(cartopy.feature.LAND.with_scale('10m'), edgecolor='black', facecolor = \"white\")\n",
    "cartopyMapRoutes.add_feature(cfeature.LAKES.with_scale('10m'), edgecolor = 'black')\n",
    "cartopyMapRoutes.add_feature(cfeature.RIVERS.with_scale('10m')) \n",
    "cartopyMapRoutes.add_feature(cfeature.BORDERS.with_scale('10m'))\n",
    "\n",
    "\n",
    "'''\n",
    "Now we want to plot the GPS-Routes on the new Cartopy Map.\n",
    "Just like with the Crane Flightpaths, we are going to create scatter plots and add them to the CartopyMap called:\n",
    "\"cartopyMapRoutes\".\n",
    "\n",
    "The line below adds the GPS-Route:\"Biesbosch\" to the Cartopy Map. \n",
    "The following applies to this line of code:\n",
    "1) First we declare the instance of the cartopymap which is the variable: \"cartopyMapRoutes\".\n",
    "2) Next we want to declare the type of MathPlotLib plot that is going to be created, which is a scatter plot.\n",
    "3) Next we want to declare the Dataframe and name of the column representing the Longitude Coordinates of the \n",
    "   GPS-Route. The dataframe, containing the data of the route: \"Biesbosch\", is called: \"Biesbosch\". \n",
    "   The Longitude column is called: \"lon\". \n",
    "4) Then we want to do the same for the Latitude Coordinates.\n",
    "5) Next we want to declare the color of the datapoints, which is red in this case. \n",
    "6) Finally we want to set the size of the datapoints, which is 1 in this case.\n",
    "'''\n",
    "cartopyMapRoutes.scatter(Biesbosch['lon'],Biesbosch['lat'],color=\"red\", s = 1)\n",
    "\n",
    "\n",
    "# # # # # # # # # # # # # # # # # # # # # # # # # # # # # # # # # # # # # # # # # # # # #\n",
    "#                                                                                       #\n",
    "#    ASSINGMENT 7: Visualize the GPS-Route: \"Zeeland_Car_1\" on the Cartopy Map.      #\n",
    "#                                                                                       #\n",
    "# # # # # # # # # # # # # # # # # # # # # # # # # # # # # # # # # # # # # # # # # # # # # \n",
    "\n",
    "#TODO\n",
    "\n",
    "'''\n",
    "The line below adds the GPS-Route:\"Biesbosch\" to the Cartopy Map. \n",
    "The following applies to this line of code:\n",
    "1) First we declare the instance of the cartopymap which is the variable: \"cartopyMapRoutes\".\n",
    "2) Next we want to declare the type of MathPlotLib plot that is going to be created, which is a scatter plot.\n",
    "3) Next we want to declare the Dataframe and name of the column representing the Longitude Coordinates of the \n",
    "   GPS-Route. The dataframe, containing the data of the route: \"Zeeland_Car_2\", is called: \"Zeeland_Car_2\". \n",
    "   The Longitude column is called: \"lon\". \n",
    "4) Then we want to do the same for the Latitude Coordinates.\n",
    "5) Next we want to declare the color of the datapoints, which is green in this case. \n",
    "6) Finally we want to set the size of the datapoints, which is 1 in this case.\n",
    "'''\n",
    "cartopyMapRoutes.scatter(Zeeland_Car_2['lon'],Zeeland_Car_2['lat'],color=\"green\", s = 1)"
   ]
  },
  {
   "cell_type": "markdown",
   "metadata": {},
   "source": [
    "---\n",
    "Now that we know what the Routes of the GPS-Routes look like, we want to export the Dataframes to the JSON \n",
    "file format. \n",
    "\n",
    "As mentioned above:\n",
    "\n",
    "To export a dataframe to JSON, we use the built-in Pandas function: \"to_json()\" on the dataframe.<br>\n",
    "First you need to declare the dataframe that you want to export to JSON. <br>\n",
    "Then you call the function: \".to_json()\" on the dataframe.<br>\n",
    "\n",
    "In this function we need to pass the location on which we want to save the JSON file and the orientation in which\n",
    "the records need to be written to the file. \n",
    " <br>\n",
    " \n",
    " ---\n",
    "The line below exports the dataframe of the GPS-Route: \"Biesbosch\" to the file format JSON. <br>\n",
    "The dataframe on which we are going to call the function: \".to_json()\".<br>\n",
    "De values wich we are going to pass in this function are as follows: \n",
    "- The file location in which we are going to save the file is: ../../Datasets/JSON/\n",
    "- The name of the file is going to be: Route-Biesbosch.json\n",
    "- The orientation in which the records are going to written to the file is: records (which makes the data human readable)"
   ]
  },
  {
   "cell_type": "code",
   "execution_count": null,
   "metadata": {},
   "outputs": [],
   "source": [
    "Biesbosch.to_json('../../Datasets/JSON/Route-Biesbosch.json',orient = 'records')"
   ]
  },
  {
   "cell_type": "markdown",
   "metadata": {},
   "source": [
    "#### Assignment 8 : Export the dataframe related to the GPS-route: \"Zeeland_Car_1\" to the JSON file format"
   ]
  },
  {
   "cell_type": "code",
   "execution_count": null,
   "metadata": {},
   "outputs": [],
   "source": [
    "#TODO"
   ]
  },
  {
   "cell_type": "markdown",
   "metadata": {},
   "source": [
    "The line below exports the dataframe of the GPS-Route: \"Zeeland Car 2\" to the file format JSON. <br>\n",
    "The dataframe on which we are going to call the function: \".to_json()\".<br>\n",
    "De values wich we are going to pass in this function are as follows: \n",
    "- The file location in which we are going to save the file is: ../../Datasets/JSON/\n",
    "- The name of the file is going to be: Route-Zeeland_Car_2.json\n",
    "- The orientation in which the records are going to written to the file is: records (which makes the data human readable)"
   ]
  },
  {
   "cell_type": "code",
   "execution_count": null,
   "metadata": {},
   "outputs": [],
   "source": [
    "Zeeland_Car_2.to_json('../../Datasets/JSON/Route-Zeeland_Car_2.json',orient = 'records')"
   ]
  }
 ],
 "metadata": {
  "kernelspec": {
   "display_name": "Python 3",
   "language": "python",
   "name": "python3"
  },
  "language_info": {
   "codemirror_mode": {
    "name": "ipython",
    "version": 3
   },
   "file_extension": ".py",
   "mimetype": "text/x-python",
   "name": "python",
   "nbconvert_exporter": "python",
   "pygments_lexer": "ipython3",
   "version": "3.6.9"
  }
 },
 "nbformat": 4,
 "nbformat_minor": 4
}
